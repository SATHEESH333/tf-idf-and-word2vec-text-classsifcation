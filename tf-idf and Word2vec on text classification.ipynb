{
 "cells": [
  {
   "cell_type": "markdown",
   "id": "9cfb577b",
   "metadata": {},
   "source": [
    "# EDA  On 200000 Jeopardy Questions "
   ]
  },
  {
   "cell_type": "markdown",
   "id": "17161d5a",
   "metadata": {},
   "source": [
    "*The Dataset is taken form Kaggle which contains the information of 2 lakh  Jeopardy questions of Diff value asked on diff shows and different dates*\n",
    "<hr/>\n",
    "<b>The dataset contains the following features</b>\n",
    "<ol>\n",
    "    <li>Show Number-The published show Number</li>\n",
    "    <li>Air Date\t-The Date of the show</li>\n",
    "    <li>Round-Jeopardy or Double jeopardy or Final</li>\n",
    "    <li>Category-Category of the question asked</li>\n",
    "    <li>Value-Value of the question (200$,400$,800$.......$) </li>\n",
    "    <li>Question-asked question during the round</li>\n",
    "    <li>Answer-Answer given by the contestant </li>\n",
    "    \n",
    " </ol>\n",
    "    \n"
   ]
  },
  {
   "cell_type": "code",
   "execution_count": 1,
   "id": "c8a773b8",
   "metadata": {},
   "outputs": [],
   "source": [
    "#Importing Required libraries\n",
    "import pandas as pd\n",
    "import numpy as np\n",
    "import matplotlib.pyplot as plt\n",
    "import seaborn as sns"
   ]
  },
  {
   "cell_type": "code",
   "execution_count": 2,
   "id": "4173f2a2",
   "metadata": {},
   "outputs": [],
   "source": [
    "#reading the Dataset\n",
    "df=pd.read_csv('JEOPARDY_CSV.csv')"
   ]
  },
  {
   "cell_type": "code",
   "execution_count": 3,
   "id": "4d714d93",
   "metadata": {},
   "outputs": [
    {
     "data": {
      "text/html": [
       "<div>\n",
       "<style scoped>\n",
       "    .dataframe tbody tr th:only-of-type {\n",
       "        vertical-align: middle;\n",
       "    }\n",
       "\n",
       "    .dataframe tbody tr th {\n",
       "        vertical-align: top;\n",
       "    }\n",
       "\n",
       "    .dataframe thead th {\n",
       "        text-align: right;\n",
       "    }\n",
       "</style>\n",
       "<table border=\"1\" class=\"dataframe\">\n",
       "  <thead>\n",
       "    <tr style=\"text-align: right;\">\n",
       "      <th></th>\n",
       "      <th>Show Number</th>\n",
       "      <th>Air Date</th>\n",
       "      <th>Round</th>\n",
       "      <th>Category</th>\n",
       "      <th>Value</th>\n",
       "      <th>Question</th>\n",
       "      <th>Answer</th>\n",
       "    </tr>\n",
       "  </thead>\n",
       "  <tbody>\n",
       "    <tr>\n",
       "      <th>0</th>\n",
       "      <td>4680</td>\n",
       "      <td>2004-12-31</td>\n",
       "      <td>Jeopardy!</td>\n",
       "      <td>HISTORY</td>\n",
       "      <td>$200</td>\n",
       "      <td>For the last 8 years of his life, Galileo was ...</td>\n",
       "      <td>Copernicus</td>\n",
       "    </tr>\n",
       "    <tr>\n",
       "      <th>1</th>\n",
       "      <td>4680</td>\n",
       "      <td>2004-12-31</td>\n",
       "      <td>Jeopardy!</td>\n",
       "      <td>ESPN's TOP 10 ALL-TIME ATHLETES</td>\n",
       "      <td>$200</td>\n",
       "      <td>No. 2: 1912 Olympian; football star at Carlisl...</td>\n",
       "      <td>Jim Thorpe</td>\n",
       "    </tr>\n",
       "    <tr>\n",
       "      <th>2</th>\n",
       "      <td>4680</td>\n",
       "      <td>2004-12-31</td>\n",
       "      <td>Jeopardy!</td>\n",
       "      <td>EVERYBODY TALKS ABOUT IT...</td>\n",
       "      <td>$200</td>\n",
       "      <td>The city of Yuma in this state has a record av...</td>\n",
       "      <td>Arizona</td>\n",
       "    </tr>\n",
       "    <tr>\n",
       "      <th>3</th>\n",
       "      <td>4680</td>\n",
       "      <td>2004-12-31</td>\n",
       "      <td>Jeopardy!</td>\n",
       "      <td>THE COMPANY LINE</td>\n",
       "      <td>$200</td>\n",
       "      <td>In 1963, live on \"The Art Linkletter Show\", th...</td>\n",
       "      <td>McDonald's</td>\n",
       "    </tr>\n",
       "    <tr>\n",
       "      <th>4</th>\n",
       "      <td>4680</td>\n",
       "      <td>2004-12-31</td>\n",
       "      <td>Jeopardy!</td>\n",
       "      <td>EPITAPHS &amp; TRIBUTES</td>\n",
       "      <td>$200</td>\n",
       "      <td>Signer of the Dec. of Indep., framer of the Co...</td>\n",
       "      <td>John Adams</td>\n",
       "    </tr>\n",
       "  </tbody>\n",
       "</table>\n",
       "</div>"
      ],
      "text/plain": [
       "   Show Number    Air Date      Round                         Category  Value  \\\n",
       "0         4680  2004-12-31  Jeopardy!                          HISTORY   $200   \n",
       "1         4680  2004-12-31  Jeopardy!  ESPN's TOP 10 ALL-TIME ATHLETES   $200   \n",
       "2         4680  2004-12-31  Jeopardy!      EVERYBODY TALKS ABOUT IT...   $200   \n",
       "3         4680  2004-12-31  Jeopardy!                 THE COMPANY LINE   $200   \n",
       "4         4680  2004-12-31  Jeopardy!              EPITAPHS & TRIBUTES   $200   \n",
       "\n",
       "                                            Question      Answer  \n",
       "0  For the last 8 years of his life, Galileo was ...  Copernicus  \n",
       "1  No. 2: 1912 Olympian; football star at Carlisl...  Jim Thorpe  \n",
       "2  The city of Yuma in this state has a record av...     Arizona  \n",
       "3  In 1963, live on \"The Art Linkletter Show\", th...  McDonald's  \n",
       "4  Signer of the Dec. of Indep., framer of the Co...  John Adams  "
      ]
     },
     "execution_count": 3,
     "metadata": {},
     "output_type": "execute_result"
    }
   ],
   "source": [
    "#Showing fhe First five columns of the dataset\n",
    "df.head()"
   ]
  },
  {
   "cell_type": "code",
   "execution_count": 4,
   "id": "db760a71",
   "metadata": {},
   "outputs": [
    {
     "data": {
      "text/plain": [
       "(216930, 7)"
      ]
     },
     "execution_count": 4,
     "metadata": {},
     "output_type": "execute_result"
    }
   ],
   "source": [
    "#Getting the shape of the dataset\n",
    "df.shape"
   ]
  },
  {
   "cell_type": "markdown",
   "id": "f5da5c74",
   "metadata": {},
   "source": [
    "<p>This dataset contains 216930 questions</p>"
   ]
  },
  {
   "cell_type": "code",
   "execution_count": 5,
   "id": "6d5d2bc0",
   "metadata": {},
   "outputs": [
    {
     "data": {
      "text/plain": [
       "Show Number     int64\n",
       " Air Date      object\n",
       " Round         object\n",
       " Category      object\n",
       " Value         object\n",
       " Question      object\n",
       " Answer        object\n",
       "dtype: object"
      ]
     },
     "execution_count": 5,
     "metadata": {},
     "output_type": "execute_result"
    }
   ],
   "source": [
    "#getting Dtatypes of the Features\n",
    "df.dtypes"
   ]
  },
  {
   "cell_type": "code",
   "execution_count": 6,
   "id": "6ed0e269",
   "metadata": {},
   "outputs": [
    {
     "data": {
      "text/plain": [
       "Show Number    0\n",
       " Air Date      0\n",
       " Round         0\n",
       " Category      0\n",
       " Value         0\n",
       " Question      0\n",
       " Answer        2\n",
       "dtype: int64"
      ]
     },
     "execution_count": 6,
     "metadata": {},
     "output_type": "execute_result"
    }
   ],
   "source": [
    "#getting Null value Rows\n",
    "df.isnull().sum()"
   ]
  },
  {
   "cell_type": "code",
   "execution_count": 7,
   "id": "49ac3120",
   "metadata": {},
   "outputs": [
    {
     "data": {
      "text/plain": [
       "Index(['Show Number', ' Air Date', ' Round', ' Category', ' Value',\n",
       "       ' Question', ' Answer'],\n",
       "      dtype='object')"
      ]
     },
     "execution_count": 7,
     "metadata": {},
     "output_type": "execute_result"
    }
   ],
   "source": [
    "#Getting Column Names\n",
    "df.columns"
   ]
  },
  {
   "cell_type": "code",
   "execution_count": 8,
   "id": "e9cfe6b5",
   "metadata": {},
   "outputs": [],
   "source": [
    "#Renaming columns For Convinient use\n",
    "df.rename(columns={'Show Number':'show_no',\n",
    "                   ' Air Date':'air_date',' Round':'round',\n",
    "                   ' Category':'category',' Value':'value',\n",
    "                   'Question':'question',' Answer':'answer'},inplace=True)"
   ]
  },
  {
   "cell_type": "code",
   "execution_count": 9,
   "id": "e9c49b76",
   "metadata": {},
   "outputs": [],
   "source": [
    "#filling Null values of answer with no string .Since We can't guess the Answer\n",
    "df['answer'].fillna(' ',inplace=True)"
   ]
  },
  {
   "cell_type": "code",
   "execution_count": 10,
   "id": "77fa3aac",
   "metadata": {},
   "outputs": [],
   "source": [
    "#Filling none string with '$0' string since No money is given to that question\n",
    "value=df['value'].values\n",
    "for  i in range(len(value)):\n",
    "    if(value[i]=='None'):\n",
    "        value[i]='$0'"
   ]
  },
  {
   "cell_type": "code",
   "execution_count": 11,
   "id": "76d55bc8",
   "metadata": {},
   "outputs": [],
   "source": [
    "#converting the data type of the value column to Int type\n",
    "value=[i.replace(\",\",\"\") for i in value]\n",
    "value=[i.replace(\"$\",\"\") for i in value]\n",
    "value=[int(i) for i in value]\n",
    "df['value']=value"
   ]
  },
  {
   "cell_type": "code",
   "execution_count": 12,
   "id": "d6455366",
   "metadata": {},
   "outputs": [],
   "source": [
    "#coverting String Date To date Type column\n",
    "df['air_date'] = pd.to_datetime(df['air_date'])"
   ]
  },
  {
   "cell_type": "code",
   "execution_count": 13,
   "id": "a2c6e0bb",
   "metadata": {},
   "outputs": [
    {
     "name": "stdout",
     "output_type": "stream",
     "text": [
      "2941    62\n",
      "5332    62\n",
      "6237    61\n",
      "1945    61\n",
      "3562    61\n",
      "        ..\n",
      "3656    30\n",
      "6300    30\n",
      "2757    30\n",
      "3022    16\n",
      "1178    12\n",
      "Name: show_no, Length: 3640, dtype: int64\n",
      "======================================================\n",
      "1997-05-19    62\n",
      "2007-11-13    62\n",
      "2011-11-01    61\n",
      "1993-02-05    61\n",
      "2000-02-15    61\n",
      "              ..\n",
      "2000-06-26    30\n",
      "2012-01-27    30\n",
      "1996-09-03    30\n",
      "1997-10-21    16\n",
      "1989-10-18    12\n",
      "Name: air_date, Length: 3640, dtype: int64\n",
      "======================================================\n",
      "Jeopardy!           107384\n",
      "Double Jeopardy!    105912\n",
      "Final Jeopardy!       3631\n",
      "Tiebreaker               3\n",
      "Name: round, dtype: int64\n",
      "======================================================\n",
      "BEFORE & AFTER        547\n",
      "SCIENCE               519\n",
      "LITERATURE            496\n",
      "AMERICAN HISTORY      418\n",
      "POTPOURRI             401\n",
      "                     ... \n",
      "1999 TELEVISION         1\n",
      "WORDS IN PHYSICS        1\n",
      "LITERATURE & MUSIC      1\n",
      "'90s NOTABLES           1\n",
      "CELEBRITY NAMES         1\n",
      "Name: category, Length: 27995, dtype: int64\n",
      "======================================================\n",
      "400      42244\n",
      "800      31860\n",
      "200      30455\n",
      "1000     21640\n",
      "600      20377\n",
      "         ...  \n",
      "5401         1\n",
      "1183         1\n",
      "1203         1\n",
      "11600        1\n",
      "11200        1\n",
      "Name: value, Length: 146, dtype: int64\n",
      "======================================================\n",
      "[audio clue]                                                                                               17\n",
      "[video clue]                                                                                               14\n",
      "(audio clue)                                                                                                5\n",
      "[filler]                                                                                                    5\n",
      "Hainan                                                                                                      4\n",
      "                                                                                                           ..\n",
      "In a Kipling ballad \"East is east, and west is west, and never\" these 4 words                               1\n",
      "The Czechs call this 720-mile-long river the Labe                                                           1\n",
      "You can still buy this character's cereal online                                                            1\n",
      "The Black Knight plush figure from this British comedy film has detachable limbs                            1\n",
      "A silent movie title includes the last name of this 18th c. statesman & favorite of Catherine the Great     1\n",
      "Name:  Question, Length: 216124, dtype: int64\n",
      "======================================================\n",
      "China                             216\n",
      "Australia                         215\n",
      "Japan                             196\n",
      "Chicago                           194\n",
      "France                            193\n",
      "                                 ... \n",
      "the barre (or bar)                  1\n",
      "grams                               1\n",
      "the Hopis                           1\n",
      "free parking                        1\n",
      "Grigori Alexandrovich Potemkin      1\n",
      "Name: answer, Length: 88269, dtype: int64\n",
      "======================================================\n"
     ]
    }
   ],
   "source": [
    "#Getting Unique Values Count of the Columns\n",
    "columns=df.columns\n",
    "for col in columns[0:7]:\n",
    "    print(df[col].value_counts())\n",
    "    print(\"======================================================\")"
   ]
  },
  {
   "cell_type": "markdown",
   "id": "96ef11cb",
   "metadata": {},
   "source": [
    "<b>Inference</b>\n",
    "<ol>\n",
    "<li>3640 Shows was telecasted  in 3640 diff dates.</li>\n",
    "<li>four rounds are there in the quiz namely Jeopardy!,Double Jeopardy!,Final Jeopardy!,Tiebreaker.</li>\n",
    "    <li>most repeatred categeory was Before and After</li>\n",
    "<li>Max Amount  per Question is 11,200 dollars \n",
    "    and Min was 200 dollar</li>\n",
    "    <li>There was no Reapeating Question But Some was Repeating Answers</li>\n",
    "</ol>\n",
    " "
   ]
  },
  {
   "cell_type": "markdown",
   "id": "e45b9c22",
   "metadata": {},
   "source": [
    "# Univariate Analysis"
   ]
  },
  {
   "cell_type": "markdown",
   "id": "0d0ea95a",
   "metadata": {},
   "source": [
    "##### Count Plot for round column"
   ]
  },
  {
   "cell_type": "code",
   "execution_count": 14,
   "id": "89699728",
   "metadata": {},
   "outputs": [
    {
     "data": {
      "text/plain": [
       "Text(0.5, 1.0, 'Number of Questions per round')"
      ]
     },
     "execution_count": 14,
     "metadata": {},
     "output_type": "execute_result"
    },
    {
     "data": {
      "image/png": "[encoded data removed]",
      "text/plain": [
       "<Figure size 432x288 with 1 Axes>"
      ]
     },
     "metadata": {
      "needs_background": "light"
     },
     "output_type": "display_data"
    }
   ],
   "source": [
    "# Number of question asked per round\n",
    "sns.countplot(x=\"round\",data=df)\n",
    "plt.xlabel(\"Round Name\")\n",
    "plt.ylabel(\"NO of Questions per Round\")\n",
    "plt.title(\"Number of Questions per round\")"
   ]
  },
  {
   "cell_type": "markdown",
   "id": "d09b6d31",
   "metadata": {},
   "source": [
    "<b>Inference</b>\n",
    "<ul>\n",
    "    <li>More questions was asked in Jeopardy!(49%) Round followed by Double Jeopardy!(48%) and final Jeopardy!(2%)</li>\n",
    "    <li>there is a 1% chance of tiebraker</li>\n",
    "    </ul>"
   ]
  },
  {
   "cell_type": "markdown",
   "id": "bc0748c2",
   "metadata": {},
   "source": [
    "#### Barplot for Value Column"
   ]
  },
  {
   "cell_type": "code",
   "execution_count": 15,
   "id": "bce99c97",
   "metadata": {},
   "outputs": [
    {
     "data": {
      "text/plain": [
       "Text(0.5, 1.0, 'Top 10 Valued Qeustions')"
      ]
     },
     "execution_count": 15,
     "metadata": {},
     "output_type": "execute_result"
    },
    {
     "data": {
      "image/png": "[encoded data removed]",
      "text/plain": [
       "<Figure size 432x288 with 1 Axes>"
      ]
     },
     "metadata": {
      "needs_background": "light"
     },
     "output_type": "display_data"
    }
   ],
   "source": [
    "#barplot for the Value column(top 10 Values)\n",
    "sns.barplot(x=df.value.value_counts()[:10].index,y=df.value.value_counts()[:10].values)\n",
    "plt.xlabel('Values of the Questions Asked')\n",
    "plt.ylabel('count of diff valued Questions')\n",
    "plt.title('Top 10 Valued Qeustions')"
   ]
  },
  {
   "cell_type": "markdown",
   "id": "e1da83ec",
   "metadata": {},
   "source": [
    "**Inference**\n",
    "* Mostly asked questions was Valued 400$(19%)."
   ]
  },
  {
   "cell_type": "markdown",
   "id": "be8c4e84",
   "metadata": {},
   "source": [
    "### Top Category Questions Asked in the Dataset"
   ]
  },
  {
   "cell_type": "code",
   "execution_count": 16,
   "id": "63b678f1",
   "metadata": {},
   "outputs": [
    {
     "data": {
      "text/plain": [
       "Text(0.5, 1.0, 'Top 10 category Qeustions')"
      ]
     },
     "execution_count": 16,
     "metadata": {},
     "output_type": "execute_result"
    },
    {
     "data": {
      "image/png": "[encoded data removed]",
      "text/plain": [
       "<Figure size 720x720 with 1 Axes>"
      ]
     },
     "metadata": {
      "needs_background": "light"
     },
     "output_type": "display_data"
    }
   ],
   "source": [
    "plt.figure(figsize=(10, 10))\n",
    "sns.barplot(x=df.category.value_counts()[:10].index,y=df.category.value_counts()[:10].values)\n",
    "#plt.figure(figsize=(10, 100))\n",
    "plt.xlabel('Values of the Questions Asked')\n",
    "plt.ylabel('count of diff categeroy questions')\n",
    "plt.title('Top 10 category Qeustions')\n"
   ]
  },
  {
   "cell_type": "markdown",
   "id": "412527f4",
   "metadata": {},
   "source": [
    "**Inference**\n",
    "* Most Asked Categeory was Before And After\n",
    "\n"
   ]
  },
  {
   "cell_type": "markdown",
   "id": "c5c1f47f",
   "metadata": {},
   "source": [
    "# Bivariate Analysis"
   ]
  },
  {
   "cell_type": "code",
   "execution_count": 17,
   "id": "8dfcf7ab",
   "metadata": {},
   "outputs": [],
   "source": [
    "#Getting Year wise Analysis\n",
    "df['year'] = pd. DatetimeIndex(df['air_date']). year"
   ]
  },
  {
   "cell_type": "code",
   "execution_count": 18,
   "id": "64245985",
   "metadata": {},
   "outputs": [],
   "source": [
    "df1=df.groupby('year')"
   ]
  },
  {
   "cell_type": "markdown",
   "id": "0fa2b503",
   "metadata": {},
   "source": [
    "# Scatter Plot for  Value(sum) and year"
   ]
  },
  {
   "cell_type": "code",
   "execution_count": 19,
   "id": "0dc1294f",
   "metadata": {},
   "outputs": [
    {
     "data": {
      "text/plain": [
       "Text(0.5, 1.0, ' Sum Of Values Vs  year')"
      ]
     },
     "execution_count": 19,
     "metadata": {},
     "output_type": "execute_result"
    },
    {
     "data": {
      "image/png": "[encoded data removed]",
      "text/plain": [
       "<Figure size 432x288 with 1 Axes>"
      ]
     },
     "metadata": {
      "needs_background": "light"
     },
     "output_type": "display_data"
    }
   ],
   "source": [
    "#Scatter plot for Value sum Vs year\n",
    "sns.scatterplot(x=df1['value'].sum().index,y=df1['value'].sum().values)\n",
    "plt.xlabel('Year')\n",
    "plt.ylabel('Sum of Values')\n",
    "plt.title(' Sum Of Values Vs  year')"
   ]
  },
  {
   "cell_type": "markdown",
   "id": "035cf96d",
   "metadata": {},
   "source": [
    "**Inference**\n",
    "* Increasing trend in the Sum of the values as the year progresses"
   ]
  },
  {
   "cell_type": "markdown",
   "id": "369062ed",
   "metadata": {},
   "source": [
    "# Pre Processing"
   ]
  },
  {
   "cell_type": "code",
   "execution_count": 20,
   "id": "ff040530",
   "metadata": {},
   "outputs": [
    {
     "name": "stderr",
     "output_type": "stream",
     "text": [
      "[nltk_data] Downloading package punkt to\n",
      "[nltk_data]     C:\\Users\\gorla\\AppData\\Roaming\\nltk_data...\n",
      "[nltk_data]   Package punkt is already up-to-date!\n",
      "[nltk_data] Downloading package wordnet to\n",
      "[nltk_data]     C:\\Users\\gorla\\AppData\\Roaming\\nltk_data...\n",
      "[nltk_data]   Package wordnet is already up-to-date!\n",
      "[nltk_data] Downloading package stopwords to\n",
      "[nltk_data]     C:\\Users\\gorla\\AppData\\Roaming\\nltk_data...\n",
      "[nltk_data]   Package stopwords is already up-to-date!\n",
      "[nltk_data] Downloading package averaged_perceptron_tagger to\n",
      "[nltk_data]     C:\\Users\\gorla\\AppData\\Roaming\\nltk_data...\n",
      "[nltk_data]   Package averaged_perceptron_tagger is already up-to-\n",
      "[nltk_data]       date!\n"
     ]
    }
   ],
   "source": [
    "import nltk\n",
    "nltk.download('punkt')\n",
    "nltk.download('wordnet')\n",
    "nltk.download('stopwords')\n",
    "nltk.download('averaged_perceptron_tagger')\n",
    "import contractions"
   ]
  },
  {
   "cell_type": "code",
   "execution_count": 21,
   "id": "f6c445c7",
   "metadata": {},
   "outputs": [],
   "source": [
    "#Removing digits and fixing contracitons\n",
    "import re\n",
    "def remove_special_characters(text, remove_digits=False):\n",
    "    pattern = r'[^a-zA-Z0-9\\s]' if not remove_digits else r'[^a-zA-Z\\s]'\n",
    "    contractions.fix(text)\n",
    "    text = re.sub(pattern, '', text)\n",
    "    return text"
   ]
  },
  {
   "cell_type": "code",
   "execution_count": 22,
   "id": "aeb4b54d",
   "metadata": {},
   "outputs": [],
   "source": [
    "#Stop words removal Function\n",
    "stop_words = nltk.corpus.stopwords.words('english')\n",
    "def remove_stopwords(text, is_lower_case=False, stopwords=None):\n",
    "    if not stopwords:\n",
    "        stopwords = nltk.corpus.stopwords.words('english')\n",
    "    tokens = nltk.word_tokenize(text)\n",
    "    tokens = [token.strip() for token in tokens]\n",
    "    \n",
    "    if is_lower_case:\n",
    "        filtered_tokens = [token for token in tokens if token not in stopwords]\n",
    "    else:\n",
    "        filtered_tokens = [token for token in tokens if token.lower() not in stopwords]\n",
    "    \n",
    "    text = ' '.join(filtered_tokens)    \n",
    "    return text"
   ]
  },
  {
   "cell_type": "code",
   "execution_count": 23,
   "id": "9d92db2f",
   "metadata": {},
   "outputs": [],
   "source": [
    "#Removing Html Tags\n",
    "import re\n",
    "from bs4 import BeautifulSoup\n",
    "\n",
    "def strip_html_tags(text):\n",
    "    soup = BeautifulSoup(text, \"html.parser\")\n",
    "    [s.extract() for s in soup(['iframe', 'script'])]\n",
    "    stripped_text = soup.get_text()\n",
    "    stripped_text = re.sub(r'[\\r|\\n|\\r\\n]+', '\\n', stripped_text)\n",
    "    return stripped_text"
   ]
  },
  {
   "cell_type": "code",
   "execution_count": 24,
   "id": "c74b247e",
   "metadata": {},
   "outputs": [
    {
     "name": "stderr",
     "output_type": "stream",
     "text": [
      "[nltk_data] Downloading package omw-1.4 to\n",
      "[nltk_data]     C:\\Users\\gorla\\AppData\\Roaming\\nltk_data...\n",
      "[nltk_data]   Package omw-1.4 is already up-to-date!\n"
     ]
    }
   ],
   "source": [
    "#lemmatization with pos tagging\n",
    "from nltk.corpus import wordnet\n",
    "nltk.download('omw-1.4')\n",
    "from nltk.stem import WordNetLemmatizer\n",
    "wnl = WordNetLemmatizer()\n",
    "def lematization(text):\n",
    "    tokens = nltk.word_tokenize(text)\n",
    "    tagged_tokens = nltk.pos_tag(tokens)\n",
    "    tag_map = {'j': wordnet.ADJ, 'v': wordnet.VERB, 'n': wordnet.NOUN, 'r': wordnet.ADV}\n",
    "    new_tagged_tokens = [(word, tag_map.get(tag[0].lower(), wordnet.NOUN))\n",
    "                            for word, tag in tagged_tokens]\n",
    "    lemmatized_text = ' '.join(wnl.lemmatize(word, tag) for word, tag in new_tagged_tokens)\n",
    "    return  lemmatized_text\n"
   ]
  },
  {
   "cell_type": "code",
   "execution_count": 25,
   "id": "4513c216",
   "metadata": {},
   "outputs": [
    {
     "name": "stderr",
     "output_type": "stream",
     "text": [
      "C:\\Users\\gorla\\anaconda3\\envs\\tf\\lib\\site-packages\\bs4\\__init__.py:435: MarkupResemblesLocatorWarning: The input looks more like a filename than markup. You may want to open this file and pass the filehandle into Beautiful Soup.\n",
      "  warnings.warn(\n"
     ]
    },
    {
     "name": "stdout",
     "output_type": "stream",
     "text": [
      "(<a href=\"http://www.j-archive.com/media/2010-12-07_DJ_09.jpg\" target=\"_blank\">Dr. Oz presents the clue.</a>) By surgically interrupting the electrical impulses that are causing an abnormal rhythm, the maze procedure is designed to threat this type of heart arrhythmia abbreviated \"A.F.\"\n"
     ]
    }
   ],
   "source": [
    "#Html tag removing ,Fixing contracitins and Removing special Charecters And digits\n",
    "que=df[' Question'].tolist()\n",
    "print(que[466])\n",
    "for i in range(len(que)):\n",
    "    text=strip_html_tags(que[i])\n",
    "    que[i]=text\n",
    "for i in range(len(que)):\n",
    "    text=remove_special_characters(que[i],remove_digits=True)\n",
    "    que[i]=text\n",
    "for i in range(len(que)):\n",
    "    text=remove_stopwords(que[i],is_lower_case=False)\n",
    "    que[i]=text\n",
    "for i in range(len(que)):\n",
    "    text=lematization(que[i])\n",
    "    que[i]=text"
   ]
  },
  {
   "cell_type": "code",
   "execution_count": 26,
   "id": "b69cf3c7",
   "metadata": {},
   "outputs": [
    {
     "data": {
      "text/plain": [
       "'Dr Oz present clue surgically interrupt electrical impulse cause abnormal rhythm maze procedure design threat type heart arrhythmia abbreviate AF'"
      ]
     },
     "execution_count": 26,
     "metadata": {},
     "output_type": "execute_result"
    }
   ],
   "source": [
    "que[466]"
   ]
  },
  {
   "cell_type": "code",
   "execution_count": 27,
   "id": "40f9020b",
   "metadata": {},
   "outputs": [],
   "source": [
    "df[\"questions\"]=que"
   ]
  },
  {
   "cell_type": "code",
   "execution_count": 28,
   "id": "feea50e5",
   "metadata": {},
   "outputs": [],
   "source": [
    "df.drop([' Question'],axis=1,inplace=True)"
   ]
  },
  {
   "cell_type": "code",
   "execution_count": 29,
   "id": "f0f06a50",
   "metadata": {},
   "outputs": [
    {
     "data": {
      "text/html": [
       "<div>\n",
       "<style scoped>\n",
       "    .dataframe tbody tr th:only-of-type {\n",
       "        vertical-align: middle;\n",
       "    }\n",
       "\n",
       "    .dataframe tbody tr th {\n",
       "        vertical-align: top;\n",
       "    }\n",
       "\n",
       "    .dataframe thead th {\n",
       "        text-align: right;\n",
       "    }\n",
       "</style>\n",
       "<table border=\"1\" class=\"dataframe\">\n",
       "  <thead>\n",
       "    <tr style=\"text-align: right;\">\n",
       "      <th></th>\n",
       "      <th>show_no</th>\n",
       "      <th>air_date</th>\n",
       "      <th>round</th>\n",
       "      <th>category</th>\n",
       "      <th>value</th>\n",
       "      <th>answer</th>\n",
       "      <th>year</th>\n",
       "      <th>questions</th>\n",
       "    </tr>\n",
       "  </thead>\n",
       "  <tbody>\n",
       "    <tr>\n",
       "      <th>0</th>\n",
       "      <td>4680</td>\n",
       "      <td>2004-12-31</td>\n",
       "      <td>Jeopardy!</td>\n",
       "      <td>HISTORY</td>\n",
       "      <td>200</td>\n",
       "      <td>Copernicus</td>\n",
       "      <td>2004</td>\n",
       "      <td>last year life Galileo house arrest espouse ma...</td>\n",
       "    </tr>\n",
       "    <tr>\n",
       "      <th>1</th>\n",
       "      <td>4680</td>\n",
       "      <td>2004-12-31</td>\n",
       "      <td>Jeopardy!</td>\n",
       "      <td>ESPN's TOP 10 ALL-TIME ATHLETES</td>\n",
       "      <td>200</td>\n",
       "      <td>Jim Thorpe</td>\n",
       "      <td>2004</td>\n",
       "      <td>Olympian football star Carlisle Indian School ...</td>\n",
       "    </tr>\n",
       "    <tr>\n",
       "      <th>2</th>\n",
       "      <td>4680</td>\n",
       "      <td>2004-12-31</td>\n",
       "      <td>Jeopardy!</td>\n",
       "      <td>EVERYBODY TALKS ABOUT IT...</td>\n",
       "      <td>200</td>\n",
       "      <td>Arizona</td>\n",
       "      <td>2004</td>\n",
       "      <td>city Yuma state record average hour sunshine year</td>\n",
       "    </tr>\n",
       "    <tr>\n",
       "      <th>3</th>\n",
       "      <td>4680</td>\n",
       "      <td>2004-12-31</td>\n",
       "      <td>Jeopardy!</td>\n",
       "      <td>THE COMPANY LINE</td>\n",
       "      <td>200</td>\n",
       "      <td>McDonald's</td>\n",
       "      <td>2004</td>\n",
       "      <td>live Art Linkletter Show company serve billion...</td>\n",
       "    </tr>\n",
       "    <tr>\n",
       "      <th>4</th>\n",
       "      <td>4680</td>\n",
       "      <td>2004-12-31</td>\n",
       "      <td>Jeopardy!</td>\n",
       "      <td>EPITAPHS &amp; TRIBUTES</td>\n",
       "      <td>200</td>\n",
       "      <td>John Adams</td>\n",
       "      <td>2004</td>\n",
       "      <td>Signer Dec Indep framer Constitution Mass seco...</td>\n",
       "    </tr>\n",
       "    <tr>\n",
       "      <th>...</th>\n",
       "      <td>...</td>\n",
       "      <td>...</td>\n",
       "      <td>...</td>\n",
       "      <td>...</td>\n",
       "      <td>...</td>\n",
       "      <td>...</td>\n",
       "      <td>...</td>\n",
       "      <td>...</td>\n",
       "    </tr>\n",
       "    <tr>\n",
       "      <th>216925</th>\n",
       "      <td>4999</td>\n",
       "      <td>2006-05-11</td>\n",
       "      <td>Double Jeopardy!</td>\n",
       "      <td>RIDDLE ME THIS</td>\n",
       "      <td>2000</td>\n",
       "      <td>Turandot</td>\n",
       "      <td>2006</td>\n",
       "      <td>Puccini opera turn solution riddle pose heroine</td>\n",
       "    </tr>\n",
       "    <tr>\n",
       "      <th>216926</th>\n",
       "      <td>4999</td>\n",
       "      <td>2006-05-11</td>\n",
       "      <td>Double Jeopardy!</td>\n",
       "      <td>\"T\" BIRDS</td>\n",
       "      <td>2000</td>\n",
       "      <td>a titmouse</td>\n",
       "      <td>2006</td>\n",
       "      <td>North America term properly apply specie crest...</td>\n",
       "    </tr>\n",
       "    <tr>\n",
       "      <th>216927</th>\n",
       "      <td>4999</td>\n",
       "      <td>2006-05-11</td>\n",
       "      <td>Double Jeopardy!</td>\n",
       "      <td>AUTHORS IN THEIR YOUTH</td>\n",
       "      <td>2000</td>\n",
       "      <td>Clive Barker</td>\n",
       "      <td>2006</td>\n",
       "      <td>Penny Lane Hellraiser grow barber shave anothe...</td>\n",
       "    </tr>\n",
       "    <tr>\n",
       "      <th>216928</th>\n",
       "      <td>4999</td>\n",
       "      <td>2006-05-11</td>\n",
       "      <td>Double Jeopardy!</td>\n",
       "      <td>QUOTATIONS</td>\n",
       "      <td>2000</td>\n",
       "      <td>Geronimo</td>\n",
       "      <td>2006</td>\n",
       "      <td>Ft Sill Okla make plea Arizona land home fathe...</td>\n",
       "    </tr>\n",
       "    <tr>\n",
       "      <th>216929</th>\n",
       "      <td>4999</td>\n",
       "      <td>2006-05-11</td>\n",
       "      <td>Final Jeopardy!</td>\n",
       "      <td>HISTORIC NAMES</td>\n",
       "      <td>0</td>\n",
       "      <td>Grigori Alexandrovich Potemkin</td>\n",
       "      <td>2006</td>\n",
       "      <td>silent movie title include last name th c stat...</td>\n",
       "    </tr>\n",
       "  </tbody>\n",
       "</table>\n",
       "<p>216930 rows × 8 columns</p>\n",
       "</div>"
      ],
      "text/plain": [
       "        show_no   air_date             round                         category  \\\n",
       "0          4680 2004-12-31         Jeopardy!                          HISTORY   \n",
       "1          4680 2004-12-31         Jeopardy!  ESPN's TOP 10 ALL-TIME ATHLETES   \n",
       "2          4680 2004-12-31         Jeopardy!      EVERYBODY TALKS ABOUT IT...   \n",
       "3          4680 2004-12-31         Jeopardy!                 THE COMPANY LINE   \n",
       "4          4680 2004-12-31         Jeopardy!              EPITAPHS & TRIBUTES   \n",
       "...         ...        ...               ...                              ...   \n",
       "216925     4999 2006-05-11  Double Jeopardy!                   RIDDLE ME THIS   \n",
       "216926     4999 2006-05-11  Double Jeopardy!                        \"T\" BIRDS   \n",
       "216927     4999 2006-05-11  Double Jeopardy!           AUTHORS IN THEIR YOUTH   \n",
       "216928     4999 2006-05-11  Double Jeopardy!                       QUOTATIONS   \n",
       "216929     4999 2006-05-11   Final Jeopardy!                   HISTORIC NAMES   \n",
       "\n",
       "        value                          answer  year  \\\n",
       "0         200                      Copernicus  2004   \n",
       "1         200                      Jim Thorpe  2004   \n",
       "2         200                         Arizona  2004   \n",
       "3         200                      McDonald's  2004   \n",
       "4         200                      John Adams  2004   \n",
       "...       ...                             ...   ...   \n",
       "216925   2000                        Turandot  2006   \n",
       "216926   2000                      a titmouse  2006   \n",
       "216927   2000                    Clive Barker  2006   \n",
       "216928   2000                        Geronimo  2006   \n",
       "216929      0  Grigori Alexandrovich Potemkin  2006   \n",
       "\n",
       "                                                questions  \n",
       "0       last year life Galileo house arrest espouse ma...  \n",
       "1       Olympian football star Carlisle Indian School ...  \n",
       "2       city Yuma state record average hour sunshine year  \n",
       "3       live Art Linkletter Show company serve billion...  \n",
       "4       Signer Dec Indep framer Constitution Mass seco...  \n",
       "...                                                   ...  \n",
       "216925    Puccini opera turn solution riddle pose heroine  \n",
       "216926  North America term properly apply specie crest...  \n",
       "216927  Penny Lane Hellraiser grow barber shave anothe...  \n",
       "216928  Ft Sill Okla make plea Arizona land home fathe...  \n",
       "216929  silent movie title include last name th c stat...  \n",
       "\n",
       "[216930 rows x 8 columns]"
      ]
     },
     "execution_count": 29,
     "metadata": {},
     "output_type": "execute_result"
    }
   ],
   "source": [
    "df"
   ]
  },
  {
   "cell_type": "code",
   "execution_count": 30,
   "id": "b60cff3c",
   "metadata": {},
   "outputs": [],
   "source": [
    "que_list=df['questions'].tolist()"
   ]
  },
  {
   "cell_type": "code",
   "execution_count": 31,
   "id": "0c2c8cfb",
   "metadata": {},
   "outputs": [],
   "source": [
    "df2=df['questions']"
   ]
  },
  {
   "cell_type": "code",
   "execution_count": 32,
   "id": "b5eb93c7",
   "metadata": {},
   "outputs": [
    {
     "data": {
      "text/plain": [
       "array([547, 519, 496, 418, 401, 377, 371, 351, 349, 342, 339, 338, 327,\n",
       "       324, 314, 311, 301, 300, 299, 297, 294, 294, 284, 282, 281, 280,\n",
       "       279, 279, 279, 270, 270, 267, 258, 255, 250, 246, 245, 244, 244,\n",
       "       243, 242, 242, 240, 236, 234, 233, 232, 232, 230, 226], dtype=int64)"
      ]
     },
     "execution_count": 32,
     "metadata": {},
     "output_type": "execute_result"
    }
   ],
   "source": [
    "df['category'].value_counts().values[:50]"
   ]
  },
  {
   "cell_type": "code",
   "execution_count": 33,
   "id": "8e0f65e6",
   "metadata": {},
   "outputs": [
    {
     "data": {
      "text/plain": [
       "Index(['BEFORE & AFTER', 'SCIENCE', 'LITERATURE', 'AMERICAN HISTORY',\n",
       "       'POTPOURRI', 'WORLD HISTORY', 'WORD ORIGINS', 'COLLEGES & UNIVERSITIES',\n",
       "       'HISTORY', 'SPORTS', 'U.S. CITIES', 'WORLD GEOGRAPHY',\n",
       "       'BODIES OF WATER', 'ANIMALS', 'STATE CAPITALS', 'BUSINESS & INDUSTRY',\n",
       "       'ISLANDS', 'WORLD CAPITALS', 'U.S. GEOGRAPHY', 'RELIGION', 'OPERA',\n",
       "       'SHAKESPEARE', 'LANGUAGES', 'BALLET', 'TELEVISION',\n",
       "       'FICTIONAL CHARACTERS', 'PEOPLE', 'RHYME TIME', 'TRANSPORTATION',\n",
       "       'ART & ARTISTS', 'STUPID ANSWERS', 'THE BIBLE', 'ART',\n",
       "       'BOOKS & AUTHORS', 'U.S. HISTORY', 'FOOD', 'MUSEUMS', 'AMERICANA',\n",
       "       'SCIENCE & NATURE', 'COMMON BONDS', 'GEOGRAPHY',\n",
       "       'HOLIDAYS & OBSERVANCES', '3-LETTER WORDS', 'ANNUAL EVENTS',\n",
       "       'AMERICAN LITERATURE', 'CLASSICAL MUSIC', 'POP MUSIC', 'AUTHORS',\n",
       "       'POETS & POETRY', 'QUOTATIONS'],\n",
       "      dtype='object')"
      ]
     },
     "execution_count": 33,
     "metadata": {},
     "output_type": "execute_result"
    }
   ],
   "source": [
    "df['category'].value_counts().index[:50]"
   ]
  },
  {
   "cell_type": "code",
   "execution_count": 34,
   "id": "2947d4b0",
   "metadata": {},
   "outputs": [],
   "source": [
    "#Initializing tfidfvect0rizer\n",
    "from sklearn.feature_extraction.text import TfidfVectorizer\n",
    "vectorizer = TfidfVectorizer()"
   ]
  },
  {
   "cell_type": "code",
   "execution_count": 35,
   "id": "bd95eef2",
   "metadata": {},
   "outputs": [],
   "source": [
    "#Merging the top categeories\n",
    "Before_and_after=['BEFORE & AFTER']\n",
    "History=['AMERICAN HISTORY','WORLD HISTORY','HISTORY',\"U.S. HISTORY\"]\n",
    "Geography=['WORLD GEOGRAPHY','U.S. GEOGRAPHY','GEOGRAPHY']\n",
    "Literature=['FICTIONAL CHARACTERS','LITERATURE','SHAKESPEARE','BOOKS & AUTHORS','AMERICAN LITERATURE','AUTHORS','POETS & POETRY', 'QUOTATIONS','LANGUAGES']\n",
    "Science=['SCIENCE','SCIENCE & NATURE','FOOD']\n",
    "Music=['CLASSICAL MUSIC', 'POP MUSIC']\n",
    "Cities=['U.S. CITIES','STATE CAPITALS','WORLD CAPITALS']\n",
    "Religion=['RELIGION','THE BIBLE']\n",
    "Water_bodies=['BODIES OF WATER','ISLANDS']\n",
    "Art=['ART & ARTISTS','ART']\n",
    "\n"
   ]
  },
  {
   "cell_type": "code",
   "execution_count": 36,
   "id": "61948ff1",
   "metadata": {},
   "outputs": [],
   "source": [
    "#Filtering Top Categories\n",
    "Selected_categories=['BEFORE & AFTER','AMERICAN HISTORY','WORLD HISTORY','HISTORY',\"U.S. HISTORY\",'WORLD GEOGRAPHY','U.S. GEOGRAPHY','GEOGRAPHY','FICTIONAL CHARACTERS','LITERATURE','SHAKESPEARE','BOOKS & AUTHORS','AMERICAN LITERATURE','AUTHORS','POETS & POETRY', 'QUOTATIONS','LANGUAGES','SCIENCE','SCIENCE & NATURE','FOOD','CLASSICAL MUSIC', 'POP MUSIC','U.S. CITIES','STATE CAPITALS','WORLD CAPITALS','RELIGION','THE BIBLE','BODIES OF WATER','ISLANDS','ART & ARTISTS','ART']"
   ]
  },
  {
   "cell_type": "code",
   "execution_count": 37,
   "id": "33bbd8ed",
   "metadata": {},
   "outputs": [],
   "source": [
    "df1= df[df.category.isin(['BEFORE & AFTER','AMERICAN HISTORY','WORLD HISTORY','HISTORY',\"U.S. HISTORY\",'WORLD GEOGRAPHY','U.S. GEOGRAPHY','GEOGRAPHY','FICTIONAL CHARACTERS','LITERATURE','SHAKESPEARE','BOOKS & AUTHORS','AMERICAN LITERATURE','AUTHORS','POETS & POETRY', 'QUOTATIONS','LANGUAGES','SCIENCE','SCIENCE & NATURE','FOOD','CLASSICAL MUSIC', 'POP MUSIC','U.S. CITIES','STATE CAPITALS','WORLD CAPITALS','RELIGION','THE BIBLE','BODIES OF WATER','ISLANDS','ART & ARTISTS','ART'])]"
   ]
  },
  {
   "cell_type": "code",
   "execution_count": 38,
   "id": "443ad3ed",
   "metadata": {},
   "outputs": [
    {
     "data": {
      "text/plain": [
       "9498"
      ]
     },
     "execution_count": 38,
     "metadata": {},
     "output_type": "execute_result"
    }
   ],
   "source": [
    "cat_list=df1.category.values\n",
    "len(cat_list)"
   ]
  },
  {
   "cell_type": "code",
   "execution_count": 39,
   "id": "5da1d291",
   "metadata": {},
   "outputs": [],
   "source": [
    "#Encoding the Category\n",
    "en_cat=[]\n",
    "for i in range(len(cat_list)):\n",
    "    if(cat_list[i] in Before_and_after):\n",
    "        en_cat.append(0)\n",
    "    if(cat_list[i] in History):\n",
    "        en_cat.append(1)\n",
    "    if(cat_list[i] in Geography):\n",
    "        en_cat.append(2)\n",
    "    if(cat_list[i] in Literature):\n",
    "        en_cat.append(3)\n",
    "    if(cat_list[i] in Science):\n",
    "        en_cat.append(4)\n",
    "    if(cat_list[i] in Music):\n",
    "        en_cat.append(5)\n",
    "    if(cat_list[i] in Cities):\n",
    "        en_cat.append(6)\n",
    "    if(cat_list[i] in Religion):\n",
    "        en_cat.append(7)\n",
    "    if(cat_list[i] in Water_bodies):\n",
    "        en_cat.append(8)\n",
    "    if(cat_list[i] in Art):\n",
    "        en_cat.append(9)"
   ]
  },
  {
   "cell_type": "code",
   "execution_count": 40,
   "id": "bbaa24df",
   "metadata": {},
   "outputs": [
    {
     "data": {
      "text/plain": [
       "array([[1, 1, 1, ..., 3, 6, 3]])"
      ]
     },
     "execution_count": 40,
     "metadata": {},
     "output_type": "execute_result"
    }
   ],
   "source": [
    "x=np.reshape(en_cat,(1,len(en_cat)))\n",
    "x"
   ]
  },
  {
   "cell_type": "code",
   "execution_count": 41,
   "id": "da5030a8",
   "metadata": {},
   "outputs": [
    {
     "name": "stderr",
     "output_type": "stream",
     "text": [
      "C:\\Users\\gorla\\AppData\\Local\\Temp\\ipykernel_6108\\1447742882.py:1: SettingWithCopyWarning: \n",
      "A value is trying to be set on a copy of a slice from a DataFrame.\n",
      "Try using .loc[row_indexer,col_indexer] = value instead\n",
      "\n",
      "See the caveats in the documentation: https://pandas.pydata.org/pandas-docs/stable/user_guide/indexing.html#returning-a-view-versus-a-copy\n",
      "  df1.loc[:,[\"Category\"]]=en_cat\n"
     ]
    }
   ],
   "source": [
    "df1.loc[:,[\"Category\"]]=en_cat"
   ]
  },
  {
   "cell_type": "code",
   "execution_count": 42,
   "id": "8fedaab0",
   "metadata": {},
   "outputs": [],
   "source": [
    "df1.reset_index(inplace=True)"
   ]
  },
  {
   "cell_type": "code",
   "execution_count": 43,
   "id": "c2f31999",
   "metadata": {},
   "outputs": [
    {
     "name": "stderr",
     "output_type": "stream",
     "text": [
      "C:\\Users\\gorla\\AppData\\Local\\Temp\\ipykernel_6108\\1829172417.py:1: SettingWithCopyWarning: \n",
      "A value is trying to be set on a copy of a slice from a DataFrame\n",
      "\n",
      "See the caveats in the documentation: https://pandas.pydata.org/pandas-docs/stable/user_guide/indexing.html#returning-a-view-versus-a-copy\n",
      "  df1.drop(['index'],axis=1,inplace=True)\n"
     ]
    }
   ],
   "source": [
    "df1.drop(['index'],axis=1,inplace=True)"
   ]
  },
  {
   "cell_type": "code",
   "execution_count": 44,
   "id": "6cb7229c",
   "metadata": {},
   "outputs": [
    {
     "name": "stderr",
     "output_type": "stream",
     "text": [
      "C:\\Users\\gorla\\anaconda3\\envs\\tf\\lib\\site-packages\\bs4\\__init__.py:435: MarkupResemblesLocatorWarning: The input looks more like a filename than markup. You may want to open this file and pass the filehandle into Beautiful Soup.\n",
      "  warnings.warn(\n"
     ]
    }
   ],
   "source": [
    "#PreProcessing the Answer (Using to predict the Category of the Question)\n",
    "Ans=df1['answer'].tolist()\n",
    "for i in range(len(Ans)):\n",
    "    text=strip_html_tags(Ans[i])\n",
    "    Ans[i]=text\n",
    "for i in range(len(Ans)):\n",
    "    text=remove_special_characters(Ans[i],remove_digits=True)\n",
    "    Ans[i]=text\n",
    "for i in range(len(Ans)):\n",
    "    text=remove_stopwords(Ans[i],is_lower_case=False)\n",
    "    Ans[i]=text\n",
    "for i in range(len(Ans)):\n",
    "    text=lematization(Ans[i])\n",
    "    Ans[i]=text"
   ]
  },
  {
   "cell_type": "code",
   "execution_count": 45,
   "id": "e213f225",
   "metadata": {},
   "outputs": [
    {
     "name": "stderr",
     "output_type": "stream",
     "text": [
      "C:\\Users\\gorla\\AppData\\Local\\Temp\\ipykernel_6108\\2291781533.py:1: SettingWithCopyWarning: \n",
      "A value is trying to be set on a copy of a slice from a DataFrame.\n",
      "Try using .loc[row_indexer,col_indexer] = value instead\n",
      "\n",
      "See the caveats in the documentation: https://pandas.pydata.org/pandas-docs/stable/user_guide/indexing.html#returning-a-view-versus-a-copy\n",
      "  df1['Answer']=Ans\n"
     ]
    }
   ],
   "source": [
    "df1['Answer']=Ans"
   ]
  },
  {
   "cell_type": "code",
   "execution_count": 46,
   "id": "2aeba6cd",
   "metadata": {},
   "outputs": [
    {
     "name": "stderr",
     "output_type": "stream",
     "text": [
      "C:\\Users\\gorla\\AppData\\Local\\Temp\\ipykernel_6108\\256867441.py:1: SettingWithCopyWarning: \n",
      "A value is trying to be set on a copy of a slice from a DataFrame\n",
      "\n",
      "See the caveats in the documentation: https://pandas.pydata.org/pandas-docs/stable/user_guide/indexing.html#returning-a-view-versus-a-copy\n",
      "  df1.drop(['answer'],axis=1,inplace=True)\n"
     ]
    }
   ],
   "source": [
    "df1.drop(['answer'],axis=1,inplace=True)"
   ]
  },
  {
   "cell_type": "code",
   "execution_count": 47,
   "id": "69e379af",
   "metadata": {},
   "outputs": [
    {
     "data": {
      "text/html": [
       "<div>\n",
       "<style scoped>\n",
       "    .dataframe tbody tr th:only-of-type {\n",
       "        vertical-align: middle;\n",
       "    }\n",
       "\n",
       "    .dataframe tbody tr th {\n",
       "        vertical-align: top;\n",
       "    }\n",
       "\n",
       "    .dataframe thead th {\n",
       "        text-align: right;\n",
       "    }\n",
       "</style>\n",
       "<table border=\"1\" class=\"dataframe\">\n",
       "  <thead>\n",
       "    <tr style=\"text-align: right;\">\n",
       "      <th></th>\n",
       "      <th>show_no</th>\n",
       "      <th>air_date</th>\n",
       "      <th>round</th>\n",
       "      <th>category</th>\n",
       "      <th>value</th>\n",
       "      <th>year</th>\n",
       "      <th>questions</th>\n",
       "      <th>Category</th>\n",
       "      <th>Answer</th>\n",
       "    </tr>\n",
       "  </thead>\n",
       "  <tbody>\n",
       "    <tr>\n",
       "      <th>0</th>\n",
       "      <td>4680</td>\n",
       "      <td>2004-12-31</td>\n",
       "      <td>Jeopardy!</td>\n",
       "      <td>HISTORY</td>\n",
       "      <td>200</td>\n",
       "      <td>2004</td>\n",
       "      <td>last year life Galileo house arrest espouse ma...</td>\n",
       "      <td>1</td>\n",
       "      <td>Copernicus</td>\n",
       "    </tr>\n",
       "    <tr>\n",
       "      <th>1</th>\n",
       "      <td>4680</td>\n",
       "      <td>2004-12-31</td>\n",
       "      <td>Jeopardy!</td>\n",
       "      <td>HISTORY</td>\n",
       "      <td>400</td>\n",
       "      <td>2004</td>\n",
       "      <td>Built BC link Rome South Italy still use today</td>\n",
       "      <td>1</td>\n",
       "      <td>Appian Way</td>\n",
       "    </tr>\n",
       "    <tr>\n",
       "      <th>2</th>\n",
       "      <td>4680</td>\n",
       "      <td>2004-12-31</td>\n",
       "      <td>Jeopardy!</td>\n",
       "      <td>HISTORY</td>\n",
       "      <td>600</td>\n",
       "      <td>2004</td>\n",
       "      <td>Rajaraja Cholas battle take Indian Ocean islan...</td>\n",
       "      <td>1</td>\n",
       "      <td>Ceylon Sri Lanka</td>\n",
       "    </tr>\n",
       "    <tr>\n",
       "      <th>3</th>\n",
       "      <td>4680</td>\n",
       "      <td>2004-12-31</td>\n",
       "      <td>Jeopardy!</td>\n",
       "      <td>HISTORY</td>\n",
       "      <td>800</td>\n",
       "      <td>2004</td>\n",
       "      <td>Karl lead first Marxist organizational effort ...</td>\n",
       "      <td>1</td>\n",
       "      <td>International</td>\n",
       "    </tr>\n",
       "    <tr>\n",
       "      <th>4</th>\n",
       "      <td>4680</td>\n",
       "      <td>2004-12-31</td>\n",
       "      <td>Jeopardy!</td>\n",
       "      <td>HISTORY</td>\n",
       "      <td>1000</td>\n",
       "      <td>2004</td>\n",
       "      <td>Asian political party found Indian National pa...</td>\n",
       "      <td>1</td>\n",
       "      <td>Congress Party</td>\n",
       "    </tr>\n",
       "    <tr>\n",
       "      <th>...</th>\n",
       "      <td>...</td>\n",
       "      <td>...</td>\n",
       "      <td>...</td>\n",
       "      <td>...</td>\n",
       "      <td>...</td>\n",
       "      <td>...</td>\n",
       "      <td>...</td>\n",
       "      <td>...</td>\n",
       "      <td>...</td>\n",
       "    </tr>\n",
       "    <tr>\n",
       "      <th>9493</th>\n",
       "      <td>4999</td>\n",
       "      <td>2006-05-11</td>\n",
       "      <td>Double Jeopardy!</td>\n",
       "      <td>QUOTATIONS</td>\n",
       "      <td>2200</td>\n",
       "      <td>2006</td>\n",
       "      <td>Oscar Wilde call letter word curse drinking class</td>\n",
       "      <td>3</td>\n",
       "      <td>work</td>\n",
       "    </tr>\n",
       "    <tr>\n",
       "      <th>9494</th>\n",
       "      <td>4999</td>\n",
       "      <td>2006-05-11</td>\n",
       "      <td>Double Jeopardy!</td>\n",
       "      <td>WORLD CAPITALS</td>\n",
       "      <td>3400</td>\n",
       "      <td>2006</td>\n",
       "      <td>Guyanese capital name Hanoverian monarch</td>\n",
       "      <td>6</td>\n",
       "      <td>Georgetown</td>\n",
       "    </tr>\n",
       "    <tr>\n",
       "      <th>9495</th>\n",
       "      <td>4999</td>\n",
       "      <td>2006-05-11</td>\n",
       "      <td>Double Jeopardy!</td>\n",
       "      <td>QUOTATIONS</td>\n",
       "      <td>1600</td>\n",
       "      <td>2006</td>\n",
       "      <td>motto politics want anything say ask man want ...</td>\n",
       "      <td>3</td>\n",
       "      <td>Margaret Thatcher</td>\n",
       "    </tr>\n",
       "    <tr>\n",
       "      <th>9496</th>\n",
       "      <td>4999</td>\n",
       "      <td>2006-05-11</td>\n",
       "      <td>Double Jeopardy!</td>\n",
       "      <td>WORLD CAPITALS</td>\n",
       "      <td>2000</td>\n",
       "      <td>2006</td>\n",
       "      <td>Suriname River</td>\n",
       "      <td>6</td>\n",
       "      <td>Paramaribo</td>\n",
       "    </tr>\n",
       "    <tr>\n",
       "      <th>9497</th>\n",
       "      <td>4999</td>\n",
       "      <td>2006-05-11</td>\n",
       "      <td>Double Jeopardy!</td>\n",
       "      <td>QUOTATIONS</td>\n",
       "      <td>2000</td>\n",
       "      <td>2006</td>\n",
       "      <td>Ft Sill Okla make plea Arizona land home fathe...</td>\n",
       "      <td>3</td>\n",
       "      <td>Geronimo</td>\n",
       "    </tr>\n",
       "  </tbody>\n",
       "</table>\n",
       "<p>9498 rows × 9 columns</p>\n",
       "</div>"
      ],
      "text/plain": [
       "      show_no   air_date             round        category  value  year  \\\n",
       "0        4680 2004-12-31         Jeopardy!         HISTORY    200  2004   \n",
       "1        4680 2004-12-31         Jeopardy!         HISTORY    400  2004   \n",
       "2        4680 2004-12-31         Jeopardy!         HISTORY    600  2004   \n",
       "3        4680 2004-12-31         Jeopardy!         HISTORY    800  2004   \n",
       "4        4680 2004-12-31         Jeopardy!         HISTORY   1000  2004   \n",
       "...       ...        ...               ...             ...    ...   ...   \n",
       "9493     4999 2006-05-11  Double Jeopardy!      QUOTATIONS   2200  2006   \n",
       "9494     4999 2006-05-11  Double Jeopardy!  WORLD CAPITALS   3400  2006   \n",
       "9495     4999 2006-05-11  Double Jeopardy!      QUOTATIONS   1600  2006   \n",
       "9496     4999 2006-05-11  Double Jeopardy!  WORLD CAPITALS   2000  2006   \n",
       "9497     4999 2006-05-11  Double Jeopardy!      QUOTATIONS   2000  2006   \n",
       "\n",
       "                                              questions  Category  \\\n",
       "0     last year life Galileo house arrest espouse ma...         1   \n",
       "1        Built BC link Rome South Italy still use today         1   \n",
       "2     Rajaraja Cholas battle take Indian Ocean islan...         1   \n",
       "3     Karl lead first Marxist organizational effort ...         1   \n",
       "4     Asian political party found Indian National pa...         1   \n",
       "...                                                 ...       ...   \n",
       "9493  Oscar Wilde call letter word curse drinking class         3   \n",
       "9494           Guyanese capital name Hanoverian monarch         6   \n",
       "9495  motto politics want anything say ask man want ...         3   \n",
       "9496                                     Suriname River         6   \n",
       "9497  Ft Sill Okla make plea Arizona land home fathe...         3   \n",
       "\n",
       "                 Answer  \n",
       "0            Copernicus  \n",
       "1            Appian Way  \n",
       "2      Ceylon Sri Lanka  \n",
       "3         International  \n",
       "4        Congress Party  \n",
       "...                 ...  \n",
       "9493               work  \n",
       "9494         Georgetown  \n",
       "9495  Margaret Thatcher  \n",
       "9496         Paramaribo  \n",
       "9497           Geronimo  \n",
       "\n",
       "[9498 rows x 9 columns]"
      ]
     },
     "execution_count": 47,
     "metadata": {},
     "output_type": "execute_result"
    }
   ],
   "source": [
    "df1"
   ]
  },
  {
   "cell_type": "code",
   "execution_count": 48,
   "id": "ba8bbef7",
   "metadata": {},
   "outputs": [
    {
     "name": "stderr",
     "output_type": "stream",
     "text": [
      "C:\\Users\\gorla\\AppData\\Local\\Temp\\ipykernel_6108\\3562130185.py:2: SettingWithCopyWarning: \n",
      "A value is trying to be set on a copy of a slice from a DataFrame.\n",
      "Try using .loc[row_indexer,col_indexer] = value instead\n",
      "\n",
      "See the caveats in the documentation: https://pandas.pydata.org/pandas-docs/stable/user_guide/indexing.html#returning-a-view-versus-a-copy\n",
      "  df1[\"Text\"] = df1['questions'].astype(str) +\" \"+ df1[\"Answer\"].astype(str)\n"
     ]
    },
    {
     "data": {
      "text/html": [
       "<div>\n",
       "<style scoped>\n",
       "    .dataframe tbody tr th:only-of-type {\n",
       "        vertical-align: middle;\n",
       "    }\n",
       "\n",
       "    .dataframe tbody tr th {\n",
       "        vertical-align: top;\n",
       "    }\n",
       "\n",
       "    .dataframe thead th {\n",
       "        text-align: right;\n",
       "    }\n",
       "</style>\n",
       "<table border=\"1\" class=\"dataframe\">\n",
       "  <thead>\n",
       "    <tr style=\"text-align: right;\">\n",
       "      <th></th>\n",
       "      <th>show_no</th>\n",
       "      <th>air_date</th>\n",
       "      <th>round</th>\n",
       "      <th>category</th>\n",
       "      <th>value</th>\n",
       "      <th>year</th>\n",
       "      <th>questions</th>\n",
       "      <th>Category</th>\n",
       "      <th>Answer</th>\n",
       "      <th>Text</th>\n",
       "    </tr>\n",
       "  </thead>\n",
       "  <tbody>\n",
       "    <tr>\n",
       "      <th>0</th>\n",
       "      <td>4680</td>\n",
       "      <td>2004-12-31</td>\n",
       "      <td>Jeopardy!</td>\n",
       "      <td>HISTORY</td>\n",
       "      <td>200</td>\n",
       "      <td>2004</td>\n",
       "      <td>last year life Galileo house arrest espouse ma...</td>\n",
       "      <td>1</td>\n",
       "      <td>Copernicus</td>\n",
       "      <td>last year life Galileo house arrest espouse ma...</td>\n",
       "    </tr>\n",
       "    <tr>\n",
       "      <th>1</th>\n",
       "      <td>4680</td>\n",
       "      <td>2004-12-31</td>\n",
       "      <td>Jeopardy!</td>\n",
       "      <td>HISTORY</td>\n",
       "      <td>400</td>\n",
       "      <td>2004</td>\n",
       "      <td>Built BC link Rome South Italy still use today</td>\n",
       "      <td>1</td>\n",
       "      <td>Appian Way</td>\n",
       "      <td>Built BC link Rome South Italy still use today...</td>\n",
       "    </tr>\n",
       "    <tr>\n",
       "      <th>2</th>\n",
       "      <td>4680</td>\n",
       "      <td>2004-12-31</td>\n",
       "      <td>Jeopardy!</td>\n",
       "      <td>HISTORY</td>\n",
       "      <td>600</td>\n",
       "      <td>2004</td>\n",
       "      <td>Rajaraja Cholas battle take Indian Ocean islan...</td>\n",
       "      <td>1</td>\n",
       "      <td>Ceylon Sri Lanka</td>\n",
       "      <td>Rajaraja Cholas battle take Indian Ocean islan...</td>\n",
       "    </tr>\n",
       "    <tr>\n",
       "      <th>3</th>\n",
       "      <td>4680</td>\n",
       "      <td>2004-12-31</td>\n",
       "      <td>Jeopardy!</td>\n",
       "      <td>HISTORY</td>\n",
       "      <td>800</td>\n",
       "      <td>2004</td>\n",
       "      <td>Karl lead first Marxist organizational effort ...</td>\n",
       "      <td>1</td>\n",
       "      <td>International</td>\n",
       "      <td>Karl lead first Marxist organizational effort ...</td>\n",
       "    </tr>\n",
       "    <tr>\n",
       "      <th>4</th>\n",
       "      <td>4680</td>\n",
       "      <td>2004-12-31</td>\n",
       "      <td>Jeopardy!</td>\n",
       "      <td>HISTORY</td>\n",
       "      <td>1000</td>\n",
       "      <td>2004</td>\n",
       "      <td>Asian political party found Indian National pa...</td>\n",
       "      <td>1</td>\n",
       "      <td>Congress Party</td>\n",
       "      <td>Asian political party found Indian National pa...</td>\n",
       "    </tr>\n",
       "    <tr>\n",
       "      <th>...</th>\n",
       "      <td>...</td>\n",
       "      <td>...</td>\n",
       "      <td>...</td>\n",
       "      <td>...</td>\n",
       "      <td>...</td>\n",
       "      <td>...</td>\n",
       "      <td>...</td>\n",
       "      <td>...</td>\n",
       "      <td>...</td>\n",
       "      <td>...</td>\n",
       "    </tr>\n",
       "    <tr>\n",
       "      <th>9493</th>\n",
       "      <td>4999</td>\n",
       "      <td>2006-05-11</td>\n",
       "      <td>Double Jeopardy!</td>\n",
       "      <td>QUOTATIONS</td>\n",
       "      <td>2200</td>\n",
       "      <td>2006</td>\n",
       "      <td>Oscar Wilde call letter word curse drinking class</td>\n",
       "      <td>3</td>\n",
       "      <td>work</td>\n",
       "      <td>Oscar Wilde call letter word curse drinking cl...</td>\n",
       "    </tr>\n",
       "    <tr>\n",
       "      <th>9494</th>\n",
       "      <td>4999</td>\n",
       "      <td>2006-05-11</td>\n",
       "      <td>Double Jeopardy!</td>\n",
       "      <td>WORLD CAPITALS</td>\n",
       "      <td>3400</td>\n",
       "      <td>2006</td>\n",
       "      <td>Guyanese capital name Hanoverian monarch</td>\n",
       "      <td>6</td>\n",
       "      <td>Georgetown</td>\n",
       "      <td>Guyanese capital name Hanoverian monarch Georg...</td>\n",
       "    </tr>\n",
       "    <tr>\n",
       "      <th>9495</th>\n",
       "      <td>4999</td>\n",
       "      <td>2006-05-11</td>\n",
       "      <td>Double Jeopardy!</td>\n",
       "      <td>QUOTATIONS</td>\n",
       "      <td>1600</td>\n",
       "      <td>2006</td>\n",
       "      <td>motto politics want anything say ask man want ...</td>\n",
       "      <td>3</td>\n",
       "      <td>Margaret Thatcher</td>\n",
       "      <td>motto politics want anything say ask man want ...</td>\n",
       "    </tr>\n",
       "    <tr>\n",
       "      <th>9496</th>\n",
       "      <td>4999</td>\n",
       "      <td>2006-05-11</td>\n",
       "      <td>Double Jeopardy!</td>\n",
       "      <td>WORLD CAPITALS</td>\n",
       "      <td>2000</td>\n",
       "      <td>2006</td>\n",
       "      <td>Suriname River</td>\n",
       "      <td>6</td>\n",
       "      <td>Paramaribo</td>\n",
       "      <td>Suriname River Paramaribo</td>\n",
       "    </tr>\n",
       "    <tr>\n",
       "      <th>9497</th>\n",
       "      <td>4999</td>\n",
       "      <td>2006-05-11</td>\n",
       "      <td>Double Jeopardy!</td>\n",
       "      <td>QUOTATIONS</td>\n",
       "      <td>2000</td>\n",
       "      <td>2006</td>\n",
       "      <td>Ft Sill Okla make plea Arizona land home fathe...</td>\n",
       "      <td>3</td>\n",
       "      <td>Geronimo</td>\n",
       "      <td>Ft Sill Okla make plea Arizona land home fathe...</td>\n",
       "    </tr>\n",
       "  </tbody>\n",
       "</table>\n",
       "<p>9498 rows × 10 columns</p>\n",
       "</div>"
      ],
      "text/plain": [
       "      show_no   air_date             round        category  value  year  \\\n",
       "0        4680 2004-12-31         Jeopardy!         HISTORY    200  2004   \n",
       "1        4680 2004-12-31         Jeopardy!         HISTORY    400  2004   \n",
       "2        4680 2004-12-31         Jeopardy!         HISTORY    600  2004   \n",
       "3        4680 2004-12-31         Jeopardy!         HISTORY    800  2004   \n",
       "4        4680 2004-12-31         Jeopardy!         HISTORY   1000  2004   \n",
       "...       ...        ...               ...             ...    ...   ...   \n",
       "9493     4999 2006-05-11  Double Jeopardy!      QUOTATIONS   2200  2006   \n",
       "9494     4999 2006-05-11  Double Jeopardy!  WORLD CAPITALS   3400  2006   \n",
       "9495     4999 2006-05-11  Double Jeopardy!      QUOTATIONS   1600  2006   \n",
       "9496     4999 2006-05-11  Double Jeopardy!  WORLD CAPITALS   2000  2006   \n",
       "9497     4999 2006-05-11  Double Jeopardy!      QUOTATIONS   2000  2006   \n",
       "\n",
       "                                              questions  Category  \\\n",
       "0     last year life Galileo house arrest espouse ma...         1   \n",
       "1        Built BC link Rome South Italy still use today         1   \n",
       "2     Rajaraja Cholas battle take Indian Ocean islan...         1   \n",
       "3     Karl lead first Marxist organizational effort ...         1   \n",
       "4     Asian political party found Indian National pa...         1   \n",
       "...                                                 ...       ...   \n",
       "9493  Oscar Wilde call letter word curse drinking class         3   \n",
       "9494           Guyanese capital name Hanoverian monarch         6   \n",
       "9495  motto politics want anything say ask man want ...         3   \n",
       "9496                                     Suriname River         6   \n",
       "9497  Ft Sill Okla make plea Arizona land home fathe...         3   \n",
       "\n",
       "                 Answer                                               Text  \n",
       "0            Copernicus  last year life Galileo house arrest espouse ma...  \n",
       "1            Appian Way  Built BC link Rome South Italy still use today...  \n",
       "2      Ceylon Sri Lanka  Rajaraja Cholas battle take Indian Ocean islan...  \n",
       "3         International  Karl lead first Marxist organizational effort ...  \n",
       "4        Congress Party  Asian political party found Indian National pa...  \n",
       "...                 ...                                                ...  \n",
       "9493               work  Oscar Wilde call letter word curse drinking cl...  \n",
       "9494         Georgetown  Guyanese capital name Hanoverian monarch Georg...  \n",
       "9495  Margaret Thatcher  motto politics want anything say ask man want ...  \n",
       "9496         Paramaribo                          Suriname River Paramaribo  \n",
       "9497           Geronimo  Ft Sill Okla make plea Arizona land home fathe...  \n",
       "\n",
       "[9498 rows x 10 columns]"
      ]
     },
     "execution_count": 48,
     "metadata": {},
     "output_type": "execute_result"
    }
   ],
   "source": [
    "#concatinating the  Question And Answer Column to Text\n",
    "df1[\"Text\"] = df1['questions'].astype(str) +\" \"+ df1[\"Answer\"].astype(str)\n",
    "df1"
   ]
  },
  {
   "cell_type": "code",
   "execution_count": 49,
   "id": "46398c7f",
   "metadata": {},
   "outputs": [
    {
     "name": "stderr",
     "output_type": "stream",
     "text": [
      "C:\\Users\\gorla\\AppData\\Local\\Temp\\ipykernel_6108\\2175408854.py:3: SettingWithCopyWarning: \n",
      "A value is trying to be set on a copy of a slice from a DataFrame\n",
      "\n",
      "See the caveats in the documentation: https://pandas.pydata.org/pandas-docs/stable/user_guide/indexing.html#returning-a-view-versus-a-copy\n",
      "  df1.drop(['Category','value','Answer','show_no','air_date','year','questions'],axis=1,inplace=True)\n"
     ]
    }
   ],
   "source": [
    "#Assigning the Target Column And dropping Unwanted Columns\n",
    "y=df1['Category']\n",
    "df1.drop(['Category','value','Answer','show_no','air_date','year','questions'],axis=1,inplace=True)"
   ]
  },
  {
   "cell_type": "code",
   "execution_count": 50,
   "id": "e1a4d079",
   "metadata": {},
   "outputs": [],
   "source": [
    "#One hot Encoding for round column\n",
    "df2 = pd.get_dummies(df1, columns = ['round'])\n",
    "#df2.drop([0,1,2,3,4,6,7,8],axis=1,inplace=True)\n"
   ]
  },
  {
   "cell_type": "markdown",
   "id": "a591ddc7",
   "metadata": {},
   "source": [
    "# Tf-idf Embeding Model"
   ]
  },
  {
   "cell_type": "code",
   "execution_count": 51,
   "id": "ebb7a610",
   "metadata": {},
   "outputs": [
    {
     "name": "stderr",
     "output_type": "stream",
     "text": [
      "C:\\Users\\gorla\\anaconda3\\envs\\tf\\lib\\site-packages\\sklearn\\utils\\deprecation.py:87: FutureWarning: Function get_feature_names is deprecated; get_feature_names is deprecated in 1.0 and will be removed in 1.2. Please use get_feature_names_out instead.\n",
      "  warnings.warn(msg, category=FutureWarning)\n"
     ]
    },
    {
     "data": {
      "text/html": [
       "<div>\n",
       "<style scoped>\n",
       "    .dataframe tbody tr th:only-of-type {\n",
       "        vertical-align: middle;\n",
       "    }\n",
       "\n",
       "    .dataframe tbody tr th {\n",
       "        vertical-align: top;\n",
       "    }\n",
       "\n",
       "    .dataframe thead th {\n",
       "        text-align: right;\n",
       "    }\n",
       "</style>\n",
       "<table border=\"1\" class=\"dataframe\">\n",
       "  <thead>\n",
       "    <tr style=\"text-align: right;\">\n",
       "      <th></th>\n",
       "      <th>aa</th>\n",
       "      <th>aactress</th>\n",
       "      <th>aaliyah</th>\n",
       "      <th>aalphabetically</th>\n",
       "      <th>aardvark</th>\n",
       "      <th>aaron</th>\n",
       "      <th>aarons</th>\n",
       "      <th>ab</th>\n",
       "      <th>ababa</th>\n",
       "      <th>aback</th>\n",
       "      <th>...</th>\n",
       "      <th>zoroastrianism</th>\n",
       "      <th>zr</th>\n",
       "      <th>zubin</th>\n",
       "      <th>zucchini</th>\n",
       "      <th>zuckerman</th>\n",
       "      <th>zulu</th>\n",
       "      <th>zurbriggen</th>\n",
       "      <th>zwinglianism</th>\n",
       "      <th>zwyn</th>\n",
       "      <th>zygote</th>\n",
       "    </tr>\n",
       "  </thead>\n",
       "  <tbody>\n",
       "    <tr>\n",
       "      <th>Doc0</th>\n",
       "      <td>0</td>\n",
       "      <td>0</td>\n",
       "      <td>0</td>\n",
       "      <td>0</td>\n",
       "      <td>0</td>\n",
       "      <td>0</td>\n",
       "      <td>0</td>\n",
       "      <td>0</td>\n",
       "      <td>0</td>\n",
       "      <td>0</td>\n",
       "      <td>...</td>\n",
       "      <td>0</td>\n",
       "      <td>0</td>\n",
       "      <td>0</td>\n",
       "      <td>0</td>\n",
       "      <td>0</td>\n",
       "      <td>0</td>\n",
       "      <td>0</td>\n",
       "      <td>0</td>\n",
       "      <td>0</td>\n",
       "      <td>0</td>\n",
       "    </tr>\n",
       "    <tr>\n",
       "      <th>Doc1</th>\n",
       "      <td>0</td>\n",
       "      <td>0</td>\n",
       "      <td>0</td>\n",
       "      <td>0</td>\n",
       "      <td>0</td>\n",
       "      <td>0</td>\n",
       "      <td>0</td>\n",
       "      <td>0</td>\n",
       "      <td>0</td>\n",
       "      <td>0</td>\n",
       "      <td>...</td>\n",
       "      <td>0</td>\n",
       "      <td>0</td>\n",
       "      <td>0</td>\n",
       "      <td>0</td>\n",
       "      <td>0</td>\n",
       "      <td>0</td>\n",
       "      <td>0</td>\n",
       "      <td>0</td>\n",
       "      <td>0</td>\n",
       "      <td>0</td>\n",
       "    </tr>\n",
       "    <tr>\n",
       "      <th>Doc2</th>\n",
       "      <td>0</td>\n",
       "      <td>0</td>\n",
       "      <td>0</td>\n",
       "      <td>0</td>\n",
       "      <td>0</td>\n",
       "      <td>0</td>\n",
       "      <td>0</td>\n",
       "      <td>0</td>\n",
       "      <td>0</td>\n",
       "      <td>0</td>\n",
       "      <td>...</td>\n",
       "      <td>0</td>\n",
       "      <td>0</td>\n",
       "      <td>0</td>\n",
       "      <td>0</td>\n",
       "      <td>0</td>\n",
       "      <td>0</td>\n",
       "      <td>0</td>\n",
       "      <td>0</td>\n",
       "      <td>0</td>\n",
       "      <td>0</td>\n",
       "    </tr>\n",
       "    <tr>\n",
       "      <th>Doc3</th>\n",
       "      <td>0</td>\n",
       "      <td>0</td>\n",
       "      <td>0</td>\n",
       "      <td>0</td>\n",
       "      <td>0</td>\n",
       "      <td>0</td>\n",
       "      <td>0</td>\n",
       "      <td>0</td>\n",
       "      <td>0</td>\n",
       "      <td>0</td>\n",
       "      <td>...</td>\n",
       "      <td>0</td>\n",
       "      <td>0</td>\n",
       "      <td>0</td>\n",
       "      <td>0</td>\n",
       "      <td>0</td>\n",
       "      <td>0</td>\n",
       "      <td>0</td>\n",
       "      <td>0</td>\n",
       "      <td>0</td>\n",
       "      <td>0</td>\n",
       "    </tr>\n",
       "    <tr>\n",
       "      <th>Doc4</th>\n",
       "      <td>0</td>\n",
       "      <td>0</td>\n",
       "      <td>0</td>\n",
       "      <td>0</td>\n",
       "      <td>0</td>\n",
       "      <td>0</td>\n",
       "      <td>0</td>\n",
       "      <td>0</td>\n",
       "      <td>0</td>\n",
       "      <td>0</td>\n",
       "      <td>...</td>\n",
       "      <td>0</td>\n",
       "      <td>0</td>\n",
       "      <td>0</td>\n",
       "      <td>0</td>\n",
       "      <td>0</td>\n",
       "      <td>0</td>\n",
       "      <td>0</td>\n",
       "      <td>0</td>\n",
       "      <td>0</td>\n",
       "      <td>0</td>\n",
       "    </tr>\n",
       "    <tr>\n",
       "      <th>...</th>\n",
       "      <td>...</td>\n",
       "      <td>...</td>\n",
       "      <td>...</td>\n",
       "      <td>...</td>\n",
       "      <td>...</td>\n",
       "      <td>...</td>\n",
       "      <td>...</td>\n",
       "      <td>...</td>\n",
       "      <td>...</td>\n",
       "      <td>...</td>\n",
       "      <td>...</td>\n",
       "      <td>...</td>\n",
       "      <td>...</td>\n",
       "      <td>...</td>\n",
       "      <td>...</td>\n",
       "      <td>...</td>\n",
       "      <td>...</td>\n",
       "      <td>...</td>\n",
       "      <td>...</td>\n",
       "      <td>...</td>\n",
       "      <td>...</td>\n",
       "    </tr>\n",
       "    <tr>\n",
       "      <th>Doc9493</th>\n",
       "      <td>0</td>\n",
       "      <td>0</td>\n",
       "      <td>0</td>\n",
       "      <td>0</td>\n",
       "      <td>0</td>\n",
       "      <td>0</td>\n",
       "      <td>0</td>\n",
       "      <td>0</td>\n",
       "      <td>0</td>\n",
       "      <td>0</td>\n",
       "      <td>...</td>\n",
       "      <td>0</td>\n",
       "      <td>0</td>\n",
       "      <td>0</td>\n",
       "      <td>0</td>\n",
       "      <td>0</td>\n",
       "      <td>0</td>\n",
       "      <td>0</td>\n",
       "      <td>0</td>\n",
       "      <td>0</td>\n",
       "      <td>0</td>\n",
       "    </tr>\n",
       "    <tr>\n",
       "      <th>Doc9494</th>\n",
       "      <td>0</td>\n",
       "      <td>0</td>\n",
       "      <td>0</td>\n",
       "      <td>0</td>\n",
       "      <td>0</td>\n",
       "      <td>0</td>\n",
       "      <td>0</td>\n",
       "      <td>0</td>\n",
       "      <td>0</td>\n",
       "      <td>0</td>\n",
       "      <td>...</td>\n",
       "      <td>0</td>\n",
       "      <td>0</td>\n",
       "      <td>0</td>\n",
       "      <td>0</td>\n",
       "      <td>0</td>\n",
       "      <td>0</td>\n",
       "      <td>0</td>\n",
       "      <td>0</td>\n",
       "      <td>0</td>\n",
       "      <td>0</td>\n",
       "    </tr>\n",
       "    <tr>\n",
       "      <th>Doc9495</th>\n",
       "      <td>0</td>\n",
       "      <td>0</td>\n",
       "      <td>0</td>\n",
       "      <td>0</td>\n",
       "      <td>0</td>\n",
       "      <td>0</td>\n",
       "      <td>0</td>\n",
       "      <td>0</td>\n",
       "      <td>0</td>\n",
       "      <td>0</td>\n",
       "      <td>...</td>\n",
       "      <td>0</td>\n",
       "      <td>0</td>\n",
       "      <td>0</td>\n",
       "      <td>0</td>\n",
       "      <td>0</td>\n",
       "      <td>0</td>\n",
       "      <td>0</td>\n",
       "      <td>0</td>\n",
       "      <td>0</td>\n",
       "      <td>0</td>\n",
       "    </tr>\n",
       "    <tr>\n",
       "      <th>Doc9496</th>\n",
       "      <td>0</td>\n",
       "      <td>0</td>\n",
       "      <td>0</td>\n",
       "      <td>0</td>\n",
       "      <td>0</td>\n",
       "      <td>0</td>\n",
       "      <td>0</td>\n",
       "      <td>0</td>\n",
       "      <td>0</td>\n",
       "      <td>0</td>\n",
       "      <td>...</td>\n",
       "      <td>0</td>\n",
       "      <td>0</td>\n",
       "      <td>0</td>\n",
       "      <td>0</td>\n",
       "      <td>0</td>\n",
       "      <td>0</td>\n",
       "      <td>0</td>\n",
       "      <td>0</td>\n",
       "      <td>0</td>\n",
       "      <td>0</td>\n",
       "    </tr>\n",
       "    <tr>\n",
       "      <th>Doc9497</th>\n",
       "      <td>0</td>\n",
       "      <td>0</td>\n",
       "      <td>0</td>\n",
       "      <td>0</td>\n",
       "      <td>0</td>\n",
       "      <td>0</td>\n",
       "      <td>0</td>\n",
       "      <td>0</td>\n",
       "      <td>0</td>\n",
       "      <td>0</td>\n",
       "      <td>...</td>\n",
       "      <td>0</td>\n",
       "      <td>0</td>\n",
       "      <td>0</td>\n",
       "      <td>0</td>\n",
       "      <td>0</td>\n",
       "      <td>0</td>\n",
       "      <td>0</td>\n",
       "      <td>0</td>\n",
       "      <td>0</td>\n",
       "      <td>0</td>\n",
       "    </tr>\n",
       "  </tbody>\n",
       "</table>\n",
       "<p>9498 rows × 17723 columns</p>\n",
       "</div>"
      ],
      "text/plain": [
       "         aa  aactress  aaliyah  aalphabetically  aardvark  aaron  aarons  ab  \\\n",
       "Doc0      0         0        0                0         0      0       0   0   \n",
       "Doc1      0         0        0                0         0      0       0   0   \n",
       "Doc2      0         0        0                0         0      0       0   0   \n",
       "Doc3      0         0        0                0         0      0       0   0   \n",
       "Doc4      0         0        0                0         0      0       0   0   \n",
       "...      ..       ...      ...              ...       ...    ...     ...  ..   \n",
       "Doc9493   0         0        0                0         0      0       0   0   \n",
       "Doc9494   0         0        0                0         0      0       0   0   \n",
       "Doc9495   0         0        0                0         0      0       0   0   \n",
       "Doc9496   0         0        0                0         0      0       0   0   \n",
       "Doc9497   0         0        0                0         0      0       0   0   \n",
       "\n",
       "         ababa  aback  ...  zoroastrianism  zr  zubin  zucchini  zuckerman  \\\n",
       "Doc0         0      0  ...               0   0      0         0          0   \n",
       "Doc1         0      0  ...               0   0      0         0          0   \n",
       "Doc2         0      0  ...               0   0      0         0          0   \n",
       "Doc3         0      0  ...               0   0      0         0          0   \n",
       "Doc4         0      0  ...               0   0      0         0          0   \n",
       "...        ...    ...  ...             ...  ..    ...       ...        ...   \n",
       "Doc9493      0      0  ...               0   0      0         0          0   \n",
       "Doc9494      0      0  ...               0   0      0         0          0   \n",
       "Doc9495      0      0  ...               0   0      0         0          0   \n",
       "Doc9496      0      0  ...               0   0      0         0          0   \n",
       "Doc9497      0      0  ...               0   0      0         0          0   \n",
       "\n",
       "         zulu  zurbriggen  zwinglianism  zwyn  zygote  \n",
       "Doc0        0           0             0     0       0  \n",
       "Doc1        0           0             0     0       0  \n",
       "Doc2        0           0             0     0       0  \n",
       "Doc3        0           0             0     0       0  \n",
       "Doc4        0           0             0     0       0  \n",
       "...       ...         ...           ...   ...     ...  \n",
       "Doc9493     0           0             0     0       0  \n",
       "Doc9494     0           0             0     0       0  \n",
       "Doc9495     0           0             0     0       0  \n",
       "Doc9496     0           0             0     0       0  \n",
       "Doc9497     0           0             0     0       0  \n",
       "\n",
       "[9498 rows x 17723 columns]"
      ]
     },
     "execution_count": 51,
     "metadata": {},
     "output_type": "execute_result"
    }
   ],
   "source": [
    "#Converting text to vectors\n",
    "from sklearn.feature_extraction.text import CountVectorizer, TfidfVectorizer\n",
    "X=df2.iloc[:,1].values\n",
    "count_vectorizer = CountVectorizer()\n",
    "wm = count_vectorizer.fit_transform(X)\n",
    "doc_names = ['Doc{:d}'.format(idx) for idx, _ in enumerate(wm)]\n",
    "feat_names = count_vectorizer.get_feature_names()\n",
    "df3 = pd.DataFrame(data=wm.toarray(), index=doc_names,columns=feat_names)\n",
    "df3"
   ]
  },
  {
   "cell_type": "code",
   "execution_count": 52,
   "id": "88fd5f7d",
   "metadata": {},
   "outputs": [],
   "source": [
    "#Making TF-IDF Dataframe\n",
    "from sklearn.preprocessing import MinMaxScaler\n",
    "X=df2.iloc[:,1].values\n",
    "from sklearn.feature_extraction.text import TfidfVectorizer\n",
    "td = TfidfVectorizer(max_features = 17723)\n",
    "X = td.fit_transform(X)\n",
    "df4 = pd.DataFrame(data=X.toarray(), index=doc_names,columns=feat_names)\n",
    "scaler = MinMaxScaler()\n",
    "#Normalizing the data\n",
    "df4= scaler.fit_transform(df4.iloc[:,:])\n"
   ]
  },
  {
   "cell_type": "code",
   "execution_count": 53,
   "id": "7fe95ff8",
   "metadata": {},
   "outputs": [],
   "source": [
    "# df4['Round']=df1['round'].values\n",
    "# df5 = pd.get_dummies(df4, columns = ['Round'])"
   ]
  },
  {
   "cell_type": "code",
   "execution_count": 54,
   "id": "a2c1c6a9",
   "metadata": {},
   "outputs": [],
   "source": [
    "#splitting  the data to test and train\n",
    "from sklearn.model_selection import train_test_split\n",
    "X_train, X_test, y_train, y_test = train_test_split(df4, y, test_size = 0.3,\n",
    "                                                    random_state = 0)"
   ]
  },
  {
   "cell_type": "code",
   "execution_count": 55,
   "id": "848b8e88",
   "metadata": {},
   "outputs": [],
   "source": [
    "#Using MultinomialNB Classifier  for predicting  category\n",
    "from sklearn.naive_bayes import MultinomialNB\n",
    "classifier = MultinomialNB()\n",
    "classifier.fit(X_train, y_train)\n",
    "y_pred = classifier.predict(X_test)"
   ]
  },
  {
   "cell_type": "code",
   "execution_count": 56,
   "id": "b51036e9",
   "metadata": {},
   "outputs": [
    {
     "name": "stdout",
     "output_type": "stream",
     "text": [
      "              precision    recall  f1-score   support\n",
      "\n",
      "           0       0.72      0.27      0.39       166\n",
      "           1       0.68      0.77      0.73       433\n",
      "           2       0.54      0.61      0.57       254\n",
      "           3       0.71      0.95      0.81       741\n",
      "           4       0.87      0.81      0.84       293\n",
      "           5       0.90      0.66      0.76       151\n",
      "           6       0.72      0.78      0.75       295\n",
      "           7       0.82      0.49      0.61       178\n",
      "           8       0.71      0.37      0.49       193\n",
      "           9       0.93      0.76      0.84       146\n",
      "\n",
      "    accuracy                           0.73      2850\n",
      "   macro avg       0.76      0.65      0.68      2850\n",
      "weighted avg       0.74      0.73      0.71      2850\n",
      "\n"
     ]
    }
   ],
   "source": [
    "#model Metrics \n",
    "from sklearn.metrics import confusion_matrix, classification_report\n",
    "classification_report = classification_report(y_test, y_pred)\n",
    "cm=confusion_matrix(y_pred,y_test)\n",
    "print(classification_report)"
   ]
  },
  {
   "cell_type": "code",
   "execution_count": 57,
   "id": "6f36978c",
   "metadata": {},
   "outputs": [
    {
     "data": {
      "text/plain": [
       "array([[ 44,   0,   0,   2,   2,  11,   0,   2,   0,   0],\n",
       "       [ 27, 335,  21,  22,  10,   5,  30,  20,  14,   6],\n",
       "       [  3,   7, 154,   5,  10,   1,  16,   2,  87,   0],\n",
       "       [ 66,  62,   8, 702,  20,  26,  17,  57,  10,  20],\n",
       "       [ 10,   2,   3,   2, 236,   3,   0,   6,   1,   7],\n",
       "       [  6,   0,   0,   0,   3,  99,   2,   0,   0,   0],\n",
       "       [  4,  21,  41,   4,   5,   3, 230,   4,   7,   0],\n",
       "       [  1,   4,   1,   4,   4,   1,   0,  87,   2,   2],\n",
       "       [  0,   2,  26,   0,   2,   0,   0,   0,  72,   0],\n",
       "       [  5,   0,   0,   0,   1,   2,   0,   0,   0, 111]], dtype=int64)"
      ]
     },
     "execution_count": 57,
     "metadata": {},
     "output_type": "execute_result"
    }
   ],
   "source": [
    "#Connfusion matrix for multinominalNB Classifier\n",
    "cm"
   ]
  },
  {
   "cell_type": "markdown",
   "id": "f139101c",
   "metadata": {},
   "source": [
    "**The accuracy of the model MultinomialNB=73%**"
   ]
  },
  {
   "cell_type": "code",
   "execution_count": 58,
   "id": "1a9b2407",
   "metadata": {},
   "outputs": [
    {
     "data": {
      "text/plain": [
       "RandomForestClassifier()"
      ]
     },
     "execution_count": 58,
     "metadata": {},
     "output_type": "execute_result"
    }
   ],
   "source": [
    "#Using Random Forest Classifier  for predicting  category\n",
    "from sklearn.ensemble import RandomForestClassifier\n",
    "classifier = RandomForestClassifier()\n",
    "classifier.fit(X_train,y_train)"
   ]
  },
  {
   "cell_type": "code",
   "execution_count": 59,
   "id": "7a4e8ba9",
   "metadata": {},
   "outputs": [],
   "source": [
    "y_pred = classifier.predict(X_test)"
   ]
  },
  {
   "cell_type": "code",
   "execution_count": 60,
   "id": "ca8e7abe",
   "metadata": {},
   "outputs": [],
   "source": [
    "from sklearn.metrics import confusion_matrix,classification_report"
   ]
  },
  {
   "cell_type": "code",
   "execution_count": 61,
   "id": "a329354e",
   "metadata": {},
   "outputs": [
    {
     "name": "stdout",
     "output_type": "stream",
     "text": [
      "              precision    recall  f1-score   support\n",
      "\n",
      "           0       0.21      0.76      0.33        46\n",
      "           1       0.65      0.70      0.68       399\n",
      "           2       0.48      0.63      0.54       193\n",
      "           3       0.90      0.71      0.79       942\n",
      "           4       0.81      0.62      0.70       384\n",
      "           5       0.53      0.74      0.62       108\n",
      "           6       0.88      0.70      0.78       373\n",
      "           7       0.42      0.76      0.54        99\n",
      "           8       0.67      0.67      0.67       192\n",
      "           9       0.71      0.91      0.80       114\n",
      "\n",
      "    accuracy                           0.70      2850\n",
      "   macro avg       0.63      0.72      0.64      2850\n",
      "weighted avg       0.76      0.70      0.71      2850\n",
      "\n"
     ]
    }
   ],
   "source": [
    "#Metrics for Random Forest Classifier\n",
    "print(classification_report(y_pred,y_test))"
   ]
  },
  {
   "cell_type": "code",
   "execution_count": 62,
   "id": "7283b6f9",
   "metadata": {},
   "outputs": [
    {
     "name": "stdout",
     "output_type": "stream",
     "text": [
      "[[ 35   0   0   2   2   4   0   3   0   0]\n",
      " [ 25 281  19  24  10   6  12  14   4   4]\n",
      " [  2  11 121   3   5   2   5   5  38   1]\n",
      " [ 60  64   7 665  33  39   6  42   4  22]\n",
      " [ 20  26  10  23 237  13   6  30   8  11]\n",
      " [ 14   6   0   1   2  80   3   1   1   0]\n",
      " [  6  26  52  11   1   4 260   4   7   2]\n",
      " [  1  11   1   7   0   0   0  75   2   2]\n",
      " [  1   7  43   4   2   0   3   3 129   0]\n",
      " [  2   1   1   1   1   3   0   1   0 104]]\n"
     ]
    }
   ],
   "source": [
    "#Confusion Matrix for Random Forest Classifioer\n",
    "print(confusion_matrix(y_pred,y_test))"
   ]
  },
  {
   "cell_type": "markdown",
   "id": "7262462c",
   "metadata": {},
   "source": [
    "**The accuracy of the model RandomForestClassifier =69%**"
   ]
  },
  {
   "cell_type": "markdown",
   "id": "aa6f3c8b",
   "metadata": {},
   "source": [
    "# Word2vec  Embeding"
   ]
  },
  {
   "cell_type": "code",
   "execution_count": 63,
   "id": "47b87604",
   "metadata": {},
   "outputs": [],
   "source": [
    "#Importing Requiired Libraries\n",
    "from nltk.corpus import stopwords \n",
    "from nltk import word_tokenize,sent_tokenize \n",
    "from keras.preprocessing.sequence import pad_sequences\n",
    "from keras.preprocessing.text import text_to_word_sequence\n",
    "from gensim.models import Word2Vec"
   ]
  },
  {
   "cell_type": "code",
   "execution_count": 64,
   "id": "fe3ac478",
   "metadata": {},
   "outputs": [
    {
     "name": "stdout",
     "output_type": "stream",
     "text": [
      "9498\n"
     ]
    }
   ],
   "source": [
    "#Breaking Text into Tokens\n",
    "tokenizer = nltk.data.load('tokenizers/punkt/english.pickle')\n",
    "sentences=[]\n",
    "sum=0\n",
    "for text in df1['Text']:\n",
    "  sents=tokenizer.tokenize(text.strip())\n",
    "  sum+=len(sents)\n",
    "  for sent in sents:\n",
    "    cleaned_sent=sent\n",
    "    sentences.append(cleaned_sent.split()) \n",
    "print(len(sentences))"
   ]
  },
  {
   "cell_type": "code",
   "execution_count": 65,
   "id": "79a78c29",
   "metadata": {},
   "outputs": [],
   "source": [
    "#Bulding word2wvc model from sentences with vector size 200\n",
    "model = Word2Vec(sentences=sentences, vector_size=200,workers=-1)"
   ]
  },
  {
   "cell_type": "code",
   "execution_count": 68,
   "id": "e29d462b",
   "metadata": {},
   "outputs": [
    {
     "name": "stdout",
     "output_type": "stream",
     "text": [
      "Next sequence pentagon hexagon heptagon octogon\n",
      "Butch Cassidys sidekicks extreme tact delicacy Sundance Kid glove\n"
     ]
    }
   ],
   "source": [
    "# X=avg_w2vec(df1['Text'])\n",
    "vocab=list(model.wv.key_to_index.keys())\n",
    "X=avg_w2vec(df1['Text'])"
   ]
  },
  {
   "cell_type": "code",
   "execution_count": 69,
   "id": "a23ff744",
   "metadata": {},
   "outputs": [],
   "source": [
    "#getting average of the sentence vector from the model voacb vectors of size 200\n",
    "def avg_w2vec(sentences):\n",
    "    transformed=[]\n",
    "    for sentence in (sentences):\n",
    "        count=0\n",
    "        vector=np.zeros(200)\n",
    "        for word in sentence.split():\n",
    "            if word in vocab:\n",
    "                vector+=model.wv.get_vector(word)\n",
    "                count+=1\n",
    "        if count!=0:\n",
    "            vector/=count\n",
    "            transformed.append(vector)\n",
    "        else:\n",
    "            print(sentence)\n",
    "    return np.array(transformed)"
   ]
  },
  {
   "cell_type": "code",
   "execution_count": 70,
   "id": "5aecd3f0",
   "metadata": {},
   "outputs": [
    {
     "name": "stdout",
     "output_type": "stream",
     "text": [
      "Next sequence pentagon hexagon heptagon octogon\n",
      "Butch Cassidys sidekicks extreme tact delicacy Sundance Kid glove\n"
     ]
    }
   ],
   "source": [
    "# X=df1['Text']\n",
    "X=avg_w2vec(df1['Text'])\n",
    "vocab=list(model.wv.key_to_index.keys())"
   ]
  },
  {
   "cell_type": "code",
   "execution_count": 71,
   "id": "619c10ec",
   "metadata": {},
   "outputs": [
    {
     "name": "stdout",
     "output_type": "stream",
     "text": [
      "9496\n",
      "9498\n"
     ]
    }
   ],
   "source": [
    "#Getting lengthes for text and target\n",
    "print(len(X))\n",
    "print(len(y))"
   ]
  },
  {
   "cell_type": "code",
   "execution_count": 72,
   "id": "2d4bd71f",
   "metadata": {},
   "outputs": [
    {
     "data": {
      "text/html": [
       "<div>\n",
       "<style scoped>\n",
       "    .dataframe tbody tr th:only-of-type {\n",
       "        vertical-align: middle;\n",
       "    }\n",
       "\n",
       "    .dataframe tbody tr th {\n",
       "        vertical-align: top;\n",
       "    }\n",
       "\n",
       "    .dataframe thead th {\n",
       "        text-align: right;\n",
       "    }\n",
       "</style>\n",
       "<table border=\"1\" class=\"dataframe\">\n",
       "  <thead>\n",
       "    <tr style=\"text-align: right;\">\n",
       "      <th></th>\n",
       "      <th>round</th>\n",
       "      <th>category</th>\n",
       "      <th>Text</th>\n",
       "    </tr>\n",
       "  </thead>\n",
       "  <tbody>\n",
       "    <tr>\n",
       "      <th>1505</th>\n",
       "      <td>Double Jeopardy!</td>\n",
       "      <td>SCIENCE</td>\n",
       "      <td>Next sequence pentagon hexagon heptagon octogon</td>\n",
       "    </tr>\n",
       "  </tbody>\n",
       "</table>\n",
       "</div>"
      ],
      "text/plain": [
       "                 round category  \\\n",
       "1505  Double Jeopardy!  SCIENCE   \n",
       "\n",
       "                                                 Text  \n",
       "1505  Next sequence pentagon hexagon heptagon octogon  "
      ]
     },
     "execution_count": 72,
     "metadata": {},
     "output_type": "execute_result"
    }
   ],
   "source": [
    "df1[df1['Text']=='Next sequence pentagon hexagon heptagon octogon']"
   ]
  },
  {
   "cell_type": "code",
   "execution_count": 73,
   "id": "75bfbe8c",
   "metadata": {},
   "outputs": [
    {
     "data": {
      "text/html": [
       "<div>\n",
       "<style scoped>\n",
       "    .dataframe tbody tr th:only-of-type {\n",
       "        vertical-align: middle;\n",
       "    }\n",
       "\n",
       "    .dataframe tbody tr th {\n",
       "        vertical-align: top;\n",
       "    }\n",
       "\n",
       "    .dataframe thead th {\n",
       "        text-align: right;\n",
       "    }\n",
       "</style>\n",
       "<table border=\"1\" class=\"dataframe\">\n",
       "  <thead>\n",
       "    <tr style=\"text-align: right;\">\n",
       "      <th></th>\n",
       "      <th>round</th>\n",
       "      <th>category</th>\n",
       "      <th>Text</th>\n",
       "    </tr>\n",
       "  </thead>\n",
       "  <tbody>\n",
       "    <tr>\n",
       "      <th>1967</th>\n",
       "      <td>Double Jeopardy!</td>\n",
       "      <td>BEFORE &amp; AFTER</td>\n",
       "      <td>Butch Cassidys sidekicks extreme tact delicacy...</td>\n",
       "    </tr>\n",
       "  </tbody>\n",
       "</table>\n",
       "</div>"
      ],
      "text/plain": [
       "                 round        category  \\\n",
       "1967  Double Jeopardy!  BEFORE & AFTER   \n",
       "\n",
       "                                                   Text  \n",
       "1967  Butch Cassidys sidekicks extreme tact delicacy...  "
      ]
     },
     "execution_count": 73,
     "metadata": {},
     "output_type": "execute_result"
    }
   ],
   "source": [
    "df1[df1['Text']=='Butch Cassidys sidekicks extreme tact delicacy Sundance Kid glove']"
   ]
  },
  {
   "cell_type": "code",
   "execution_count": 74,
   "id": "8e08eacd",
   "metadata": {},
   "outputs": [
    {
     "data": {
      "text/plain": [
       "(1505, 1967)"
      ]
     },
     "execution_count": 74,
     "metadata": {},
     "output_type": "execute_result"
    }
   ],
   "source": [
    "1505,1967"
   ]
  },
  {
   "cell_type": "code",
   "execution_count": 75,
   "id": "04639c85",
   "metadata": {},
   "outputs": [],
   "source": [
    "#deleting the Vectors that are not produced by word2vec model\n",
    "y=np.delete(y.values,1505)\n",
    "y=np.delete(y,1967)"
   ]
  },
  {
   "cell_type": "code",
   "execution_count": 76,
   "id": "415b04e7",
   "metadata": {},
   "outputs": [
    {
     "data": {
      "text/plain": [
       "9496"
      ]
     },
     "execution_count": 76,
     "metadata": {},
     "output_type": "execute_result"
    }
   ],
   "source": [
    "len(y)"
   ]
  },
  {
   "cell_type": "code",
   "execution_count": 77,
   "id": "373045a4",
   "metadata": {},
   "outputs": [
    {
     "data": {
      "text/plain": [
       "9496"
      ]
     },
     "execution_count": 77,
     "metadata": {},
     "output_type": "execute_result"
    }
   ],
   "source": [
    "len(X)"
   ]
  },
  {
   "cell_type": "code",
   "execution_count": 78,
   "id": "103bd7ce",
   "metadata": {},
   "outputs": [],
   "source": [
    "#Splitting the train and test dataset\n",
    "x_train,x_test,y_train,y_test=train_test_split(X,y,test_size=0.33)"
   ]
  },
  {
   "cell_type": "code",
   "execution_count": 79,
   "id": "a0fbc3fa",
   "metadata": {},
   "outputs": [
    {
     "data": {
      "text/plain": [
       "RandomForestClassifier()"
      ]
     },
     "execution_count": 79,
     "metadata": {},
     "output_type": "execute_result"
    }
   ],
   "source": [
    "#Random Forest  classifier for classification\n",
    "classifier = RandomForestClassifier()\n",
    "classifier.fit(x_train,y_train)"
   ]
  },
  {
   "cell_type": "code",
   "execution_count": 80,
   "id": "61df137e",
   "metadata": {},
   "outputs": [],
   "source": [
    "y_pred = classifier.predict(x_test)"
   ]
  },
  {
   "cell_type": "code",
   "execution_count": 81,
   "id": "c6b4c38b",
   "metadata": {},
   "outputs": [
    {
     "name": "stdout",
     "output_type": "stream",
     "text": [
      "              precision    recall  f1-score   support\n",
      "\n",
      "           0       0.00      0.00      0.00         0\n",
      "           1       0.26      0.32      0.29       363\n",
      "           2       0.08      0.38      0.13        61\n",
      "           3       0.94      0.35      0.51      2293\n",
      "           4       0.11      0.44      0.18        86\n",
      "           5       0.01      1.00      0.02         2\n",
      "           6       0.59      0.65      0.62       275\n",
      "           7       0.01      1.00      0.02         2\n",
      "           8       0.14      0.62      0.23        47\n",
      "           9       0.03      1.00      0.06         5\n",
      "\n",
      "    accuracy                           0.38      3134\n",
      "   macro avg       0.22      0.58      0.21      3134\n",
      "weighted avg       0.77      0.38      0.47      3134\n",
      "\n"
     ]
    },
    {
     "name": "stderr",
     "output_type": "stream",
     "text": [
      "C:\\Users\\gorla\\anaconda3\\envs\\tf\\lib\\site-packages\\sklearn\\metrics\\_classification.py:1318: UndefinedMetricWarning: Recall and F-score are ill-defined and being set to 0.0 in labels with no true samples. Use `zero_division` parameter to control this behavior.\n",
      "  _warn_prf(average, modifier, msg_start, len(result))\n",
      "C:\\Users\\gorla\\anaconda3\\envs\\tf\\lib\\site-packages\\sklearn\\metrics\\_classification.py:1318: UndefinedMetricWarning: Recall and F-score are ill-defined and being set to 0.0 in labels with no true samples. Use `zero_division` parameter to control this behavior.\n",
      "  _warn_prf(average, modifier, msg_start, len(result))\n",
      "C:\\Users\\gorla\\anaconda3\\envs\\tf\\lib\\site-packages\\sklearn\\metrics\\_classification.py:1318: UndefinedMetricWarning: Recall and F-score are ill-defined and being set to 0.0 in labels with no true samples. Use `zero_division` parameter to control this behavior.\n",
      "  _warn_prf(average, modifier, msg_start, len(result))\n"
     ]
    }
   ],
   "source": [
    "#Classification Report for Randomforset Classifier\n",
    "print(classification_report(y_pred,y_test))"
   ]
  },
  {
   "cell_type": "code",
   "execution_count": 82,
   "id": "3a7ac167",
   "metadata": {},
   "outputs": [],
   "source": [
    "#After Normalization\n",
    "from sklearn.preprocessing import MinMaxScaler\n",
    "scaler = MinMaxScaler()\n",
    "scaled = scaler.fit_transform(X)"
   ]
  },
  {
   "cell_type": "code",
   "execution_count": 83,
   "id": "07fcf76f",
   "metadata": {},
   "outputs": [],
   "source": [
    "x_train,x_test,y_train,y_test=train_test_split(scaled,y,test_size=0.33)"
   ]
  },
  {
   "cell_type": "code",
   "execution_count": 84,
   "id": "44ec6b9f",
   "metadata": {},
   "outputs": [
    {
     "data": {
      "text/plain": [
       "RandomForestClassifier()"
      ]
     },
     "execution_count": 84,
     "metadata": {},
     "output_type": "execute_result"
    }
   ],
   "source": [
    "classifier = RandomForestClassifier()\n",
    "classifier.fit(x_train,y_train)"
   ]
  },
  {
   "cell_type": "code",
   "execution_count": 85,
   "id": "58251226",
   "metadata": {},
   "outputs": [],
   "source": [
    "y_pred = classifier.predict(x_test)"
   ]
  },
  {
   "cell_type": "code",
   "execution_count": 86,
   "id": "c727f79f",
   "metadata": {},
   "outputs": [
    {
     "name": "stdout",
     "output_type": "stream",
     "text": [
      "              precision    recall  f1-score   support\n",
      "\n",
      "           0       0.00      0.00      0.00         1\n",
      "           1       0.25      0.29      0.27       391\n",
      "           2       0.09      0.46      0.15        61\n",
      "           3       0.95      0.35      0.51      2299\n",
      "           4       0.16      0.57      0.26        89\n",
      "           5       0.01      1.00      0.01         1\n",
      "           6       0.54      0.66      0.59       241\n",
      "           7       0.01      1.00      0.01         1\n",
      "           8       0.14      0.64      0.23        44\n",
      "           9       0.03      1.00      0.06         6\n",
      "\n",
      "    accuracy                           0.38      3134\n",
      "   macro avg       0.22      0.60      0.21      3134\n",
      "weighted avg       0.77      0.38      0.47      3134\n",
      "\n"
     ]
    }
   ],
   "source": [
    "print(classification_report(y_pred,y_test))"
   ]
  },
  {
   "cell_type": "code",
   "execution_count": 87,
   "id": "73c8e615",
   "metadata": {},
   "outputs": [
    {
     "name": "stdout",
     "output_type": "stream",
     "text": [
      "[[  0   0   0   0   0   1   0   0   0   0]\n",
      " [ 16 113  56  35  27  17  35  38  27  27]\n",
      " [  2   1  28   1   3   0   8   3  15   0]\n",
      " [154 317 180 801 220 138  91 133 120 145]\n",
      " [  6   3   2   5  51   7   2   6   1   6]\n",
      " [  0   0   0   0   0   1   0   0   0   0]\n",
      " [  4  16  34   4   9   3 159   6   5   1]\n",
      " [  0   0   0   0   0   0   0   1   0   0]\n",
      " [  1   1  11   1   0   0   1   0  28   1]\n",
      " [  0   0   0   0   0   0   0   0   0   6]]\n"
     ]
    }
   ],
   "source": [
    "print(confusion_matrix(y_pred,y_test))"
   ]
  },
  {
   "cell_type": "markdown",
   "id": "f05f6553",
   "metadata": {},
   "source": [
    "**The accuracy of the RandomForestClassifier=36%**"
   ]
  },
  {
   "cell_type": "code",
   "execution_count": 88,
   "id": "0edd5b73",
   "metadata": {},
   "outputs": [],
   "source": [
    "#Multinomialnb classifier\n",
    "classifier = MultinomialNB( alpha=1.0, fit_prior=True, class_prior=None)\n",
    "classifier.fit(x_train, y_train)\n",
    "y_pred = classifier.predict(x_test)"
   ]
  },
  {
   "cell_type": "code",
   "execution_count": 89,
   "id": "d3a20e1e",
   "metadata": {},
   "outputs": [
    {
     "name": "stdout",
     "output_type": "stream",
     "text": [
      "              precision    recall  f1-score   support\n",
      "\n",
      "           0       0.00      0.00      0.00         0\n",
      "           1       0.00      0.00      0.00         0\n",
      "           2       0.00      1.00      0.01         1\n",
      "           3       1.00      0.27      0.43      3124\n",
      "           4       0.00      0.00      0.00         0\n",
      "           5       0.00      0.00      0.00         0\n",
      "           6       0.02      0.56      0.03         9\n",
      "           7       0.00      0.00      0.00         0\n",
      "           8       0.00      0.00      0.00         0\n",
      "           9       0.00      0.00      0.00         0\n",
      "\n",
      "    accuracy                           0.27      3134\n",
      "   macro avg       0.10      0.18      0.05      3134\n",
      "weighted avg       1.00      0.27      0.43      3134\n",
      "\n"
     ]
    },
    {
     "name": "stderr",
     "output_type": "stream",
     "text": [
      "C:\\Users\\gorla\\anaconda3\\envs\\tf\\lib\\site-packages\\sklearn\\metrics\\_classification.py:1318: UndefinedMetricWarning: Recall and F-score are ill-defined and being set to 0.0 in labels with no true samples. Use `zero_division` parameter to control this behavior.\n",
      "  _warn_prf(average, modifier, msg_start, len(result))\n",
      "C:\\Users\\gorla\\anaconda3\\envs\\tf\\lib\\site-packages\\sklearn\\metrics\\_classification.py:1318: UndefinedMetricWarning: Recall and F-score are ill-defined and being set to 0.0 in labels with no true samples. Use `zero_division` parameter to control this behavior.\n",
      "  _warn_prf(average, modifier, msg_start, len(result))\n",
      "C:\\Users\\gorla\\anaconda3\\envs\\tf\\lib\\site-packages\\sklearn\\metrics\\_classification.py:1318: UndefinedMetricWarning: Recall and F-score are ill-defined and being set to 0.0 in labels with no true samples. Use `zero_division` parameter to control this behavior.\n",
      "  _warn_prf(average, modifier, msg_start, len(result))\n"
     ]
    }
   ],
   "source": [
    "print(classification_report(y_pred,y_test))"
   ]
  },
  {
   "cell_type": "code",
   "execution_count": 90,
   "id": "61cd9cbd",
   "metadata": {},
   "outputs": [
    {
     "name": "stdout",
     "output_type": "stream",
     "text": [
      "[[  0   0   0   0   0   0   0   0   0   0]\n",
      " [  0   0   0   0   0   0   0   0   0   0]\n",
      " [  0   0   1   0   0   0   0   0   0   0]\n",
      " [183 450 308 847 310 167 291 187 195 186]\n",
      " [  0   0   0   0   0   0   0   0   0   0]\n",
      " [  0   0   0   0   0   0   0   0   0   0]\n",
      " [  0   1   2   0   0   0   5   0   1   0]\n",
      " [  0   0   0   0   0   0   0   0   0   0]\n",
      " [  0   0   0   0   0   0   0   0   0   0]\n",
      " [  0   0   0   0   0   0   0   0   0   0]]\n"
     ]
    }
   ],
   "source": [
    "print(confusion_matrix(y_pred,y_test))"
   ]
  },
  {
   "cell_type": "markdown",
   "id": "396c2e22",
   "metadata": {},
   "source": [
    "# Results"
   ]
  },
  {
   "cell_type": "markdown",
   "id": "3e75b2af",
   "metadata": {},
   "source": [
    "* Tf-idf word embeding gives the avg accuracy of 71%\n",
    "* Word2vec gives the avg Accuracy of 33%\n",
    "*As including the The other columns[Round,value] As features the accuuracy degrades \n"
   ]
  },
  {
   "cell_type": "code",
   "execution_count": null,
   "id": "e86978f7",
   "metadata": {},
   "outputs": [],
   "source": []
  }
 ],
 "metadata": {
  "kernelspec": {
   "display_name": "Python 3 (ipykernel)",
   "language": "python",
   "name": "python3"
  },
  "language_info": {
   "codemirror_mode": {
    "name": "ipython",
    "version": 3
   },
   "file_extension": ".py",
   "mimetype": "text/x-python",
   "name": "python",
   "nbconvert_exporter": "python",
   "pygments_lexer": "ipython3",
   "version": "3.9.7"
  }
 },
 "nbformat": 4,
 "nbformat_minor": 5
}
